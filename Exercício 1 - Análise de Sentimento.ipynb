{
 "cells": [
  {
   "cell_type": "markdown",
   "metadata": {},
   "source": [
    "# Exercício 1: Análise de Sentimento com Classificadores"
   ]
  },
  {
   "cell_type": "markdown",
   "metadata": {},
   "source": [
    "O seguinte notebook visa demonstrar como analisar sentimentos de reviews de filmes utilizando classificadores básicos. A base de dados que usaremos será a de review de filmes do IMDb disponibilizada pela Stanford (http://ai.stanford.edu/~amaas/data/sentiment/).\n",
    "\n",
    "Primeiramente, vamos importar os pacotes que usaremos no notebook"
   ]
  },
  {
   "cell_type": "code",
   "execution_count": 1,
   "metadata": {},
   "outputs": [],
   "source": [
    "import re\n",
    "from sklearn.feature_extraction.text import CountVectorizer\n",
    "from sklearn.linear_model import LogisticRegression\n",
    "from sklearn.metrics import accuracy_score\n",
    "from sklearn.model_selection import train_test_split\n",
    "from sklearn.naive_bayes import MultinomialNB\n",
    "import numpy as np"
   ]
  },
  {
   "cell_type": "markdown",
   "metadata": {},
   "source": [
    "Inicialmente, temos que carregar nossa base de dados. A base de dados do IMDB é dividida em arquivos. Os arquivos que estamos utilizando já foram combinados da forma correta e separados em teste e treinamento. Para acessar os arquivos, descompactar o arquivo movie_reviews.zip para a pasta data"
   ]
  },
  {
   "cell_type": "code",
   "execution_count": 2,
   "metadata": {},
   "outputs": [],
   "source": [
    "reviews_train = []\n",
    "for line in open('data/full_train.txt', 'r', encoding=\"utf8\"):\n",
    "    reviews_train.append(line.strip())\n",
    "    \n",
    "reviews_test = []\n",
    "for line in open('data/full_test.txt', 'r', encoding=\"utf8\"):\n",
    "    reviews_test.append(line.strip())"
   ]
  },
  {
   "cell_type": "markdown",
   "metadata": {},
   "source": [
    "Temos que tratar a base antes de utilizar, removendo possíveis pontuações e tags html que porventura existam no texto."
   ]
  },
  {
   "cell_type": "code",
   "execution_count": 3,
   "metadata": {},
   "outputs": [],
   "source": [
    "REPLACE_NO_SPACE = re.compile(\"(\\.)|(\\;)|(\\:)|(\\!)|(\\')|(\\?)|(\\,)|(\\\")|(\\()|(\\))|(\\[)|(\\])\")\n",
    "REPLACE_WITH_SPACE = re.compile(\"(<br\\s*/><br\\s*/>)|(\\-)|(\\/)\")\n",
    "\n",
    "def preprocess_reviews(reviews):\n",
    "    reviews = [REPLACE_NO_SPACE.sub(\"\", line.lower()) for line in reviews]\n",
    "    reviews = [REPLACE_WITH_SPACE.sub(\" \", line) for line in reviews]\n",
    "    \n",
    "    return reviews\n",
    "\n",
    "reviews_train_clean = preprocess_reviews(reviews_train)\n",
    "reviews_test_clean  = preprocess_reviews(reviews_test)"
   ]
  },
  {
   "cell_type": "code",
   "execution_count": 4,
   "metadata": {},
   "outputs": [
    {
     "name": "stdout",
     "output_type": "stream",
     "text": [
      "(25000,)\n",
      "(25000,)\n"
     ]
    }
   ],
   "source": [
    "print(np.array(reviews_train_clean).shape)\n",
    "print(np.array(reviews_test_clean).shape)"
   ]
  },
  {
   "cell_type": "markdown",
   "metadata": {},
   "source": [
    "Precisamos converter as entradas em uma sacola de palavras (bag of words). Para isso usaremos a vetorização de frequência relativa (CountVectorizer). Complete o código abaixo:"
   ]
  },
  {
   "cell_type": "code",
   "execution_count": 6,
   "metadata": {},
   "outputs": [],
   "source": [
    "#complete a linha abaixo\n",
    "cv = CountVectorizer()\n",
    "cv.fit(reviews_train_clean)\n",
    "X = cv.transform(reviews_train_clean)\n",
    "X_test = cv.transform(reviews_test_clean)"
   ]
  },
  {
   "cell_type": "markdown",
   "metadata": {},
   "source": [
    "Cada coluna indica uma palavra e cada linha, uma entrada de texto, assim teremos uma matriz esparsa (grande quantidade de zeros espalhados pela matriz). Note que o resultado do CountVectorizer é uma matriz esparsa."
   ]
  },
  {
   "cell_type": "code",
   "execution_count": 7,
   "metadata": {},
   "outputs": [
    {
     "data": {
      "text/plain": [
       "<25000x92715 sparse matrix of type '<class 'numpy.int64'>'\n",
       "\twith 3461902 stored elements in Compressed Sparse Row format>"
      ]
     },
     "execution_count": 7,
     "metadata": {},
     "output_type": "execute_result"
    }
   ],
   "source": [
    "X"
   ]
  },
  {
   "cell_type": "markdown",
   "metadata": {},
   "source": [
    "A base de dados foi organizada da seguinte forma: as primeiras 12500 entradas são de reviews positivos, o restante é de reviews negativos. Isso vale para treinamento e teste. Assim, criaremos uma lista com o valor 1 para os primeiros 12500 registros e zero para os restantes em uma faixa de 25000 (total de registros tanto em treinamento quanto em teste). \n",
    "\n",
    "Aproveitamos e fazemos o split da base, em dados de treinamento e validação, para isso, complete a linha abaixo:"
   ]
  },
  {
   "cell_type": "code",
   "execution_count": 8,
   "metadata": {},
   "outputs": [],
   "source": [
    "target = [1 if i < 12500 else 0 for i in range(25000)]\n",
    "\n",
    "#complete a linha abaixo\n",
    "X_train, X_val, y_train, y_val = train_test_split(X, target, train_size=0.8)"
   ]
  },
  {
   "cell_type": "code",
   "execution_count": 9,
   "metadata": {},
   "outputs": [
    {
     "name": "stdout",
     "output_type": "stream",
     "text": [
      "(20000, 92715) (5000, 92715)\n",
      "(20000,) (5000,)\n"
     ]
    }
   ],
   "source": [
    "print(X_train.shape, X_val.shape)\n",
    "print(np.array(y_train).shape, np.array(y_val).shape)"
   ]
  },
  {
   "cell_type": "markdown",
   "metadata": {},
   "source": [
    "Vamos treinar uma regressão logística e ver qual será a acurácia, isto é, o quão preciso é nosso modelo na pequena base de validação. Para isso, utilize o LogisticRegression e complete as linhas abaixo:"
   ]
  },
  {
   "cell_type": "code",
   "execution_count": 11,
   "metadata": {},
   "outputs": [
    {
     "name": "stdout",
     "output_type": "stream",
     "text": [
      "Accuracy : 0.8738\n"
     ]
    }
   ],
   "source": [
    "#complete a linha abaixo\n",
    "lr = LogisticRegression(max_iter=1000)\n",
    "#complete a linha abaixo para treinar o modelo\n",
    "lr.fit(X_train, y_train)\n",
    "print (\"Accuracy : %s\" % (np.round(accuracy_score(y_val, lr.predict(X_val)),4)))"
   ]
  },
  {
   "cell_type": "markdown",
   "metadata": {},
   "source": [
    "Faremos o mesmo para um classificador Naive Bayes. Complete as linhas abaixo utilizando o MultinomialNB:"
   ]
  },
  {
   "cell_type": "code",
   "execution_count": 12,
   "metadata": {},
   "outputs": [
    {
     "name": "stdout",
     "output_type": "stream",
     "text": [
      "Accuracy : 0.8494\n"
     ]
    }
   ],
   "source": [
    "#complete a linha abaixo\n",
    "nb = MultinomialNB()\n",
    "#complete a linha abaixo para treinar o modelo\n",
    "nb.fit(X_train, y_train)\n",
    "print(\"Accuracy : %s\" % (np.round(accuracy_score(y_val, nb.predict(X_val)),4)))"
   ]
  },
  {
   "cell_type": "markdown",
   "metadata": {},
   "source": [
    "Agora vamos ver como os modelos se comportam com nossa base de teste. Primeiramente a regressão logística:"
   ]
  },
  {
   "cell_type": "code",
   "execution_count": 13,
   "metadata": {},
   "outputs": [
    {
     "name": "stdout",
     "output_type": "stream",
     "text": [
      "Accuracy : 0.8662\n"
     ]
    }
   ],
   "source": [
    "print (\"Accuracy : %s\" % (np.round(accuracy_score(target, lr.predict(X_test)),4)))"
   ]
  },
  {
   "cell_type": "markdown",
   "metadata": {},
   "source": [
    "E agora, o Naive Bayes:"
   ]
  },
  {
   "cell_type": "code",
   "execution_count": 14,
   "metadata": {},
   "outputs": [
    {
     "name": "stdout",
     "output_type": "stream",
     "text": [
      "Accuracy : 0.8142\n"
     ]
    }
   ],
   "source": [
    "print(\"Accuracy : %s\" % (np.round(accuracy_score(target, nb.predict(X_test)),4)))"
   ]
  },
  {
   "cell_type": "markdown",
   "metadata": {},
   "source": [
    "Vamos tentar otimizar o modelo, aplicando a ideia do Naive Bayes Booleano. Para isso, precisamos transformar nossas features em dados binários. Abaixo, crie um código para binarizar nosso vetor de contagem, isto é, limitar todas as contagens para 1.\n",
    "Dica: o CountVectorizer pode binarizar o vetor"
   ]
  },
  {
   "cell_type": "code",
   "execution_count": 15,
   "metadata": {},
   "outputs": [
    {
     "name": "stdout",
     "output_type": "stream",
     "text": [
      "(25000, 92715) (25000, 92715)\n"
     ]
    }
   ],
   "source": [
    "#Complete o código abaixo\n",
    "cv_binary = CountVectorizer(binary=True)\n",
    "cv_binary.fit(reviews_train_clean)\n",
    "X_binary      = cv_binary.transform(reviews_train_clean)\n",
    "X_test_binary = cv_binary.transform(reviews_test_clean)\n",
    "print(X_binary.shape, X_test_binary.shape)"
   ]
  },
  {
   "cell_type": "markdown",
   "metadata": {},
   "source": [
    "Vamos separar os conjuntos novamente em treinamento e validação"
   ]
  },
  {
   "cell_type": "code",
   "execution_count": 16,
   "metadata": {},
   "outputs": [],
   "source": [
    "target = [1 if i < 12500 else 0 for i in range(25000)]\n",
    "\n",
    "X_train, X_val, y_train, y_val = train_test_split(X_binary, target, train_size = 0.8)"
   ]
  },
  {
   "cell_type": "markdown",
   "metadata": {},
   "source": [
    "Agora treine um classificador Naive Bayes para classificar nossas features binárias"
   ]
  },
  {
   "cell_type": "code",
   "execution_count": 17,
   "metadata": {},
   "outputs": [
    {
     "data": {
      "text/plain": [
       "MultinomialNB()"
      ]
     },
     "execution_count": 17,
     "metadata": {},
     "output_type": "execute_result"
    }
   ],
   "source": [
    "#complete o código abaixo criando o classificador e o treinando\n",
    "nb = MultinomialNB()\n",
    "nb.fit(X_train, y_train)"
   ]
  },
  {
   "cell_type": "code",
   "execution_count": 18,
   "metadata": {},
   "outputs": [
    {
     "name": "stdout",
     "output_type": "stream",
     "text": [
      "Accuracy : 0.8544\n"
     ]
    }
   ],
   "source": [
    "print(\"Accuracy : %s\" % (accuracy_score(y_val, nb.predict(X_val))))"
   ]
  },
  {
   "cell_type": "code",
   "execution_count": 19,
   "metadata": {},
   "outputs": [
    {
     "name": "stdout",
     "output_type": "stream",
     "text": [
      "(5000,) (5000, 92715)\n",
      "(25000,) (25000, 92715)\n"
     ]
    }
   ],
   "source": [
    "print(np.array(y_val).shape, X_val.shape)\n",
    "print(np.array(target).shape, X_test_binary.shape)"
   ]
  },
  {
   "cell_type": "markdown",
   "metadata": {},
   "source": [
    "Vamos agora ver a acurácia no nosso conjunto de teste"
   ]
  },
  {
   "cell_type": "code",
   "execution_count": 20,
   "metadata": {},
   "outputs": [
    {
     "name": "stdout",
     "output_type": "stream",
     "text": [
      "Accuracy : 0.82396\n"
     ]
    }
   ],
   "source": [
    "print(\"Accuracy : %s\" % (accuracy_score(target, nb.predict(X_test_binary))))"
   ]
  },
  {
   "cell_type": "code",
   "execution_count": null,
   "metadata": {},
   "outputs": [],
   "source": []
  }
 ],
 "metadata": {
  "kernelspec": {
   "display_name": "Python 3",
   "language": "python",
   "name": "python3"
  },
  "language_info": {
   "codemirror_mode": {
    "name": "ipython",
    "version": 3
   },
   "file_extension": ".py",
   "mimetype": "text/x-python",
   "name": "python",
   "nbconvert_exporter": "python",
   "pygments_lexer": "ipython3",
   "version": "3.8.3"
  }
 },
 "nbformat": 4,
 "nbformat_minor": 2
}
