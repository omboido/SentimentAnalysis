{
 "cells": [
  {
   "cell_type": "markdown",
   "metadata": {},
   "source": [
    "# Trabalho Análise de Sentimentos\n",
    "# - Dataset Tweets\n",
    "# Grupo: Harlan e Emmanuel\n"
   ]
  },
  {
   "cell_type": "markdown",
   "metadata": {},
   "source": [
    "### - [Imports](#imp)\n",
    "### - [Carregando os dados, primeira análise](#car)\n",
    "### - [Vetorização](#vet)\n",
    "### - [Teste com Naive Bayes](#nb)\n",
    "### - [Teste com SVM](#svm)\n",
    "### - [Deep Learning](#dl)\n",
    "### - [MLP](#mlp)\n",
    "### - [RNN](#rnn)"
   ]
  },
  {
   "cell_type": "markdown",
   "metadata": {},
   "source": [
    "# Imports<a id='imp'></a>"
   ]
  },
  {
   "cell_type": "code",
   "execution_count": 119,
   "metadata": {},
   "outputs": [],
   "source": [
    "import os\n",
    "\n",
    "import numpy as np\n",
    "import pandas as pd\n",
    "\n",
    "import matplotlib.pyplot as plt\n",
    "import seaborn as sns\n",
    "\n",
    "from sklearn.feature_extraction.text import CountVectorizer, TfidfVectorizer\n",
    "\n",
    "from sklearn.model_selection import train_test_split\n",
    "\n",
    "from sklearn.naive_bayes import MultinomialNB\n",
    "from sklearn.svm import LinearSVC\n",
    "\n",
    "from sklearn.metrics import accuracy_score, f1_score\n",
    "from sklearn.metrics import classification_report\n",
    "\n",
    "import keras\n",
    "\n",
    "from keras.preprocessing.text import Tokenizer\n",
    "from keras.preprocessing import sequence\n",
    "\n",
    "from keras.models import Sequential\n",
    "from keras.layers import Input, Dense\n",
    "from keras.layers import Embedding\n",
    "from keras.layers import SimpleRNN\n",
    "from keras.callbacks import EarlyStopping, ModelCheckpoint\n",
    "from keras.optimizers import RMSprop, Adam, SGD\n"
   ]
  },
  {
   "cell_type": "code",
   "execution_count": 74,
   "metadata": {},
   "outputs": [
    {
     "data": {
      "text/plain": [
       "['full_test.txt',\n",
       " 'full_train.txt',\n",
       " 'training.1600000.processed.noemoticon.csv']"
      ]
     },
     "execution_count": 74,
     "metadata": {},
     "output_type": "execute_result"
    }
   ],
   "source": [
    "os.listdir('data')"
   ]
  },
  {
   "cell_type": "markdown",
   "metadata": {},
   "source": [
    "# Carregando os dados<a id='car'></a>"
   ]
  },
  {
   "cell_type": "code",
   "execution_count": 75,
   "metadata": {},
   "outputs": [],
   "source": [
    "cols = ['sentiment','id','date','query_string','user','text']\n",
    "\n",
    "raw_df = pd.read_csv(\"data/training.1600000.processed.noemoticon.csv\",\n",
    "                          header=None, names=cols, encoding = \"ISO-8859-1\")"
   ]
  },
  {
   "cell_type": "code",
   "execution_count": 76,
   "metadata": {},
   "outputs": [
    {
     "data": {
      "text/html": [
       "<div>\n",
       "<style scoped>\n",
       "    .dataframe tbody tr th:only-of-type {\n",
       "        vertical-align: middle;\n",
       "    }\n",
       "\n",
       "    .dataframe tbody tr th {\n",
       "        vertical-align: top;\n",
       "    }\n",
       "\n",
       "    .dataframe thead th {\n",
       "        text-align: right;\n",
       "    }\n",
       "</style>\n",
       "<table border=\"1\" class=\"dataframe\">\n",
       "  <thead>\n",
       "    <tr style=\"text-align: right;\">\n",
       "      <th></th>\n",
       "      <th>sentiment</th>\n",
       "      <th>id</th>\n",
       "      <th>date</th>\n",
       "      <th>query_string</th>\n",
       "      <th>user</th>\n",
       "      <th>text</th>\n",
       "    </tr>\n",
       "  </thead>\n",
       "  <tbody>\n",
       "    <tr>\n",
       "      <th>0</th>\n",
       "      <td>0</td>\n",
       "      <td>1467810369</td>\n",
       "      <td>Mon Apr 06 22:19:45 PDT 2009</td>\n",
       "      <td>NO_QUERY</td>\n",
       "      <td>_TheSpecialOne_</td>\n",
       "      <td>@switchfoot http://twitpic.com/2y1zl - Awww, that's a bummer.  You shoulda got David Carr of Third Day to do it. ;D</td>\n",
       "    </tr>\n",
       "    <tr>\n",
       "      <th>1</th>\n",
       "      <td>0</td>\n",
       "      <td>1467810672</td>\n",
       "      <td>Mon Apr 06 22:19:49 PDT 2009</td>\n",
       "      <td>NO_QUERY</td>\n",
       "      <td>scotthamilton</td>\n",
       "      <td>is upset that he can't update his Facebook by texting it... and might cry as a result  School today also. Blah!</td>\n",
       "    </tr>\n",
       "    <tr>\n",
       "      <th>2</th>\n",
       "      <td>0</td>\n",
       "      <td>1467810917</td>\n",
       "      <td>Mon Apr 06 22:19:53 PDT 2009</td>\n",
       "      <td>NO_QUERY</td>\n",
       "      <td>mattycus</td>\n",
       "      <td>@Kenichan I dived many times for the ball. Managed to save 50%  The rest go out of bounds</td>\n",
       "    </tr>\n",
       "    <tr>\n",
       "      <th>3</th>\n",
       "      <td>0</td>\n",
       "      <td>1467811184</td>\n",
       "      <td>Mon Apr 06 22:19:57 PDT 2009</td>\n",
       "      <td>NO_QUERY</td>\n",
       "      <td>ElleCTF</td>\n",
       "      <td>my whole body feels itchy and like its on fire</td>\n",
       "    </tr>\n",
       "    <tr>\n",
       "      <th>4</th>\n",
       "      <td>0</td>\n",
       "      <td>1467811193</td>\n",
       "      <td>Mon Apr 06 22:19:57 PDT 2009</td>\n",
       "      <td>NO_QUERY</td>\n",
       "      <td>Karoli</td>\n",
       "      <td>@nationwideclass no, it's not behaving at all. i'm mad. why am i here? because I can't see you all over there.</td>\n",
       "    </tr>\n",
       "    <tr>\n",
       "      <th>5</th>\n",
       "      <td>0</td>\n",
       "      <td>1467811372</td>\n",
       "      <td>Mon Apr 06 22:20:00 PDT 2009</td>\n",
       "      <td>NO_QUERY</td>\n",
       "      <td>joy_wolf</td>\n",
       "      <td>@Kwesidei not the whole crew</td>\n",
       "    </tr>\n",
       "    <tr>\n",
       "      <th>6</th>\n",
       "      <td>0</td>\n",
       "      <td>1467811592</td>\n",
       "      <td>Mon Apr 06 22:20:03 PDT 2009</td>\n",
       "      <td>NO_QUERY</td>\n",
       "      <td>mybirch</td>\n",
       "      <td>Need a hug</td>\n",
       "    </tr>\n",
       "    <tr>\n",
       "      <th>7</th>\n",
       "      <td>0</td>\n",
       "      <td>1467811594</td>\n",
       "      <td>Mon Apr 06 22:20:03 PDT 2009</td>\n",
       "      <td>NO_QUERY</td>\n",
       "      <td>coZZ</td>\n",
       "      <td>@LOLTrish hey  long time no see! Yes.. Rains a bit ,only a bit  LOL , I'm fine thanks , how's you ?</td>\n",
       "    </tr>\n",
       "    <tr>\n",
       "      <th>8</th>\n",
       "      <td>0</td>\n",
       "      <td>1467811795</td>\n",
       "      <td>Mon Apr 06 22:20:05 PDT 2009</td>\n",
       "      <td>NO_QUERY</td>\n",
       "      <td>2Hood4Hollywood</td>\n",
       "      <td>@Tatiana_K nope they didn't have it</td>\n",
       "    </tr>\n",
       "    <tr>\n",
       "      <th>9</th>\n",
       "      <td>0</td>\n",
       "      <td>1467812025</td>\n",
       "      <td>Mon Apr 06 22:20:09 PDT 2009</td>\n",
       "      <td>NO_QUERY</td>\n",
       "      <td>mimismo</td>\n",
       "      <td>@twittera que me muera ?</td>\n",
       "    </tr>\n",
       "    <tr>\n",
       "      <th>10</th>\n",
       "      <td>0</td>\n",
       "      <td>1467812416</td>\n",
       "      <td>Mon Apr 06 22:20:16 PDT 2009</td>\n",
       "      <td>NO_QUERY</td>\n",
       "      <td>erinx3leannexo</td>\n",
       "      <td>spring break in plain city... it's snowing</td>\n",
       "    </tr>\n",
       "    <tr>\n",
       "      <th>11</th>\n",
       "      <td>0</td>\n",
       "      <td>1467812579</td>\n",
       "      <td>Mon Apr 06 22:20:17 PDT 2009</td>\n",
       "      <td>NO_QUERY</td>\n",
       "      <td>pardonlauren</td>\n",
       "      <td>I just re-pierced my ears</td>\n",
       "    </tr>\n",
       "    <tr>\n",
       "      <th>12</th>\n",
       "      <td>0</td>\n",
       "      <td>1467812723</td>\n",
       "      <td>Mon Apr 06 22:20:19 PDT 2009</td>\n",
       "      <td>NO_QUERY</td>\n",
       "      <td>TLeC</td>\n",
       "      <td>@caregiving I couldn't bear to watch it.  And I thought the UA loss was embarrassing . . . . .</td>\n",
       "    </tr>\n",
       "    <tr>\n",
       "      <th>13</th>\n",
       "      <td>0</td>\n",
       "      <td>1467812771</td>\n",
       "      <td>Mon Apr 06 22:20:19 PDT 2009</td>\n",
       "      <td>NO_QUERY</td>\n",
       "      <td>robrobbierobert</td>\n",
       "      <td>@octolinz16 It it counts, idk why I did either. you never talk to me anymore</td>\n",
       "    </tr>\n",
       "    <tr>\n",
       "      <th>14</th>\n",
       "      <td>0</td>\n",
       "      <td>1467812784</td>\n",
       "      <td>Mon Apr 06 22:20:20 PDT 2009</td>\n",
       "      <td>NO_QUERY</td>\n",
       "      <td>bayofwolves</td>\n",
       "      <td>@smarrison i would've been the first, but i didn't have a gun.    not really though, zac snyder's just a doucheclown.</td>\n",
       "    </tr>\n",
       "  </tbody>\n",
       "</table>\n",
       "</div>"
      ],
      "text/plain": [
       "    sentiment          id                          date query_string  \\\n",
       "0           0  1467810369  Mon Apr 06 22:19:45 PDT 2009     NO_QUERY   \n",
       "1           0  1467810672  Mon Apr 06 22:19:49 PDT 2009     NO_QUERY   \n",
       "2           0  1467810917  Mon Apr 06 22:19:53 PDT 2009     NO_QUERY   \n",
       "3           0  1467811184  Mon Apr 06 22:19:57 PDT 2009     NO_QUERY   \n",
       "4           0  1467811193  Mon Apr 06 22:19:57 PDT 2009     NO_QUERY   \n",
       "5           0  1467811372  Mon Apr 06 22:20:00 PDT 2009     NO_QUERY   \n",
       "6           0  1467811592  Mon Apr 06 22:20:03 PDT 2009     NO_QUERY   \n",
       "7           0  1467811594  Mon Apr 06 22:20:03 PDT 2009     NO_QUERY   \n",
       "8           0  1467811795  Mon Apr 06 22:20:05 PDT 2009     NO_QUERY   \n",
       "9           0  1467812025  Mon Apr 06 22:20:09 PDT 2009     NO_QUERY   \n",
       "10          0  1467812416  Mon Apr 06 22:20:16 PDT 2009     NO_QUERY   \n",
       "11          0  1467812579  Mon Apr 06 22:20:17 PDT 2009     NO_QUERY   \n",
       "12          0  1467812723  Mon Apr 06 22:20:19 PDT 2009     NO_QUERY   \n",
       "13          0  1467812771  Mon Apr 06 22:20:19 PDT 2009     NO_QUERY   \n",
       "14          0  1467812784  Mon Apr 06 22:20:20 PDT 2009     NO_QUERY   \n",
       "\n",
       "               user  \\\n",
       "0   _TheSpecialOne_   \n",
       "1     scotthamilton   \n",
       "2          mattycus   \n",
       "3           ElleCTF   \n",
       "4            Karoli   \n",
       "5          joy_wolf   \n",
       "6           mybirch   \n",
       "7              coZZ   \n",
       "8   2Hood4Hollywood   \n",
       "9           mimismo   \n",
       "10   erinx3leannexo   \n",
       "11     pardonlauren   \n",
       "12             TLeC   \n",
       "13  robrobbierobert   \n",
       "14      bayofwolves   \n",
       "\n",
       "                                                                                                                     text  \n",
       "0     @switchfoot http://twitpic.com/2y1zl - Awww, that's a bummer.  You shoulda got David Carr of Third Day to do it. ;D  \n",
       "1         is upset that he can't update his Facebook by texting it... and might cry as a result  School today also. Blah!  \n",
       "2                               @Kenichan I dived many times for the ball. Managed to save 50%  The rest go out of bounds  \n",
       "3                                                                         my whole body feels itchy and like its on fire   \n",
       "4         @nationwideclass no, it's not behaving at all. i'm mad. why am i here? because I can't see you all over there.   \n",
       "5                                                                                           @Kwesidei not the whole crew   \n",
       "6                                                                                                             Need a hug   \n",
       "7                     @LOLTrish hey  long time no see! Yes.. Rains a bit ,only a bit  LOL , I'm fine thanks , how's you ?  \n",
       "8                                                                                    @Tatiana_K nope they didn't have it   \n",
       "9                                                                                               @twittera que me muera ?   \n",
       "10                                                                            spring break in plain city... it's snowing   \n",
       "11                                                                                             I just re-pierced my ears   \n",
       "12                         @caregiving I couldn't bear to watch it.  And I thought the UA loss was embarrassing . . . . .  \n",
       "13                                          @octolinz16 It it counts, idk why I did either. you never talk to me anymore   \n",
       "14  @smarrison i would've been the first, but i didn't have a gun.    not really though, zac snyder's just a doucheclown.  "
      ]
     },
     "execution_count": 76,
     "metadata": {},
     "output_type": "execute_result"
    }
   ],
   "source": [
    "raw_df.head(15)"
   ]
  },
  {
   "cell_type": "code",
   "execution_count": 77,
   "metadata": {},
   "outputs": [],
   "source": [
    "raw_df_filtered = raw_df[['sentiment', 'text']]\n",
    "\n",
    "del raw_df"
   ]
  },
  {
   "cell_type": "code",
   "execution_count": 78,
   "metadata": {},
   "outputs": [
    {
     "data": {
      "text/html": [
       "<div>\n",
       "<style scoped>\n",
       "    .dataframe tbody tr th:only-of-type {\n",
       "        vertical-align: middle;\n",
       "    }\n",
       "\n",
       "    .dataframe tbody tr th {\n",
       "        vertical-align: top;\n",
       "    }\n",
       "\n",
       "    .dataframe thead th {\n",
       "        text-align: right;\n",
       "    }\n",
       "</style>\n",
       "<table border=\"1\" class=\"dataframe\">\n",
       "  <thead>\n",
       "    <tr style=\"text-align: right;\">\n",
       "      <th></th>\n",
       "      <th>sentiment</th>\n",
       "      <th>text</th>\n",
       "    </tr>\n",
       "  </thead>\n",
       "  <tbody>\n",
       "    <tr>\n",
       "      <th>0</th>\n",
       "      <td>0</td>\n",
       "      <td>@switchfoot http://twitpic.com/2y1zl - Awww, that's a bummer.  You shoulda got David Carr of Third Day to do it. ;D</td>\n",
       "    </tr>\n",
       "    <tr>\n",
       "      <th>1</th>\n",
       "      <td>0</td>\n",
       "      <td>is upset that he can't update his Facebook by texting it... and might cry as a result  School today also. Blah!</td>\n",
       "    </tr>\n",
       "    <tr>\n",
       "      <th>2</th>\n",
       "      <td>0</td>\n",
       "      <td>@Kenichan I dived many times for the ball. Managed to save 50%  The rest go out of bounds</td>\n",
       "    </tr>\n",
       "    <tr>\n",
       "      <th>3</th>\n",
       "      <td>0</td>\n",
       "      <td>my whole body feels itchy and like its on fire</td>\n",
       "    </tr>\n",
       "    <tr>\n",
       "      <th>4</th>\n",
       "      <td>0</td>\n",
       "      <td>@nationwideclass no, it's not behaving at all. i'm mad. why am i here? because I can't see you all over there.</td>\n",
       "    </tr>\n",
       "    <tr>\n",
       "      <th>5</th>\n",
       "      <td>0</td>\n",
       "      <td>@Kwesidei not the whole crew</td>\n",
       "    </tr>\n",
       "    <tr>\n",
       "      <th>6</th>\n",
       "      <td>0</td>\n",
       "      <td>Need a hug</td>\n",
       "    </tr>\n",
       "    <tr>\n",
       "      <th>7</th>\n",
       "      <td>0</td>\n",
       "      <td>@LOLTrish hey  long time no see! Yes.. Rains a bit ,only a bit  LOL , I'm fine thanks , how's you ?</td>\n",
       "    </tr>\n",
       "    <tr>\n",
       "      <th>8</th>\n",
       "      <td>0</td>\n",
       "      <td>@Tatiana_K nope they didn't have it</td>\n",
       "    </tr>\n",
       "    <tr>\n",
       "      <th>9</th>\n",
       "      <td>0</td>\n",
       "      <td>@twittera que me muera ?</td>\n",
       "    </tr>\n",
       "    <tr>\n",
       "      <th>10</th>\n",
       "      <td>0</td>\n",
       "      <td>spring break in plain city... it's snowing</td>\n",
       "    </tr>\n",
       "    <tr>\n",
       "      <th>11</th>\n",
       "      <td>0</td>\n",
       "      <td>I just re-pierced my ears</td>\n",
       "    </tr>\n",
       "    <tr>\n",
       "      <th>12</th>\n",
       "      <td>0</td>\n",
       "      <td>@caregiving I couldn't bear to watch it.  And I thought the UA loss was embarrassing . . . . .</td>\n",
       "    </tr>\n",
       "    <tr>\n",
       "      <th>13</th>\n",
       "      <td>0</td>\n",
       "      <td>@octolinz16 It it counts, idk why I did either. you never talk to me anymore</td>\n",
       "    </tr>\n",
       "    <tr>\n",
       "      <th>14</th>\n",
       "      <td>0</td>\n",
       "      <td>@smarrison i would've been the first, but i didn't have a gun.    not really though, zac snyder's just a doucheclown.</td>\n",
       "    </tr>\n",
       "  </tbody>\n",
       "</table>\n",
       "</div>"
      ],
      "text/plain": [
       "    sentiment  \\\n",
       "0           0   \n",
       "1           0   \n",
       "2           0   \n",
       "3           0   \n",
       "4           0   \n",
       "5           0   \n",
       "6           0   \n",
       "7           0   \n",
       "8           0   \n",
       "9           0   \n",
       "10          0   \n",
       "11          0   \n",
       "12          0   \n",
       "13          0   \n",
       "14          0   \n",
       "\n",
       "                                                                                                                     text  \n",
       "0     @switchfoot http://twitpic.com/2y1zl - Awww, that's a bummer.  You shoulda got David Carr of Third Day to do it. ;D  \n",
       "1         is upset that he can't update his Facebook by texting it... and might cry as a result  School today also. Blah!  \n",
       "2                               @Kenichan I dived many times for the ball. Managed to save 50%  The rest go out of bounds  \n",
       "3                                                                         my whole body feels itchy and like its on fire   \n",
       "4         @nationwideclass no, it's not behaving at all. i'm mad. why am i here? because I can't see you all over there.   \n",
       "5                                                                                           @Kwesidei not the whole crew   \n",
       "6                                                                                                             Need a hug   \n",
       "7                     @LOLTrish hey  long time no see! Yes.. Rains a bit ,only a bit  LOL , I'm fine thanks , how's you ?  \n",
       "8                                                                                    @Tatiana_K nope they didn't have it   \n",
       "9                                                                                               @twittera que me muera ?   \n",
       "10                                                                            spring break in plain city... it's snowing   \n",
       "11                                                                                             I just re-pierced my ears   \n",
       "12                         @caregiving I couldn't bear to watch it.  And I thought the UA loss was embarrassing . . . . .  \n",
       "13                                          @octolinz16 It it counts, idk why I did either. you never talk to me anymore   \n",
       "14  @smarrison i would've been the first, but i didn't have a gun.    not really though, zac snyder's just a doucheclown.  "
      ]
     },
     "execution_count": 78,
     "metadata": {},
     "output_type": "execute_result"
    }
   ],
   "source": [
    "pd.set_option('max_colwidth', 200)\n",
    "raw_df_filtered.head(15)"
   ]
  },
  {
   "cell_type": "markdown",
   "metadata": {},
   "source": [
    "### Distribuição do tamanho dos tweets"
   ]
  },
  {
   "cell_type": "code",
   "execution_count": 79,
   "metadata": {
    "scrolled": true
   },
   "outputs": [
    {
     "data": {
      "image/png": "[encoded data removed]",
      "text/plain": [
       "<Figure size 576x360 with 1 Axes>"
      ]
     },
     "metadata": {
      "needs_background": "light"
     },
     "output_type": "display_data"
    }
   ],
   "source": [
    "plt.figure(figsize=(8,5))\n",
    "plt.title(\"Distribuição quantidade de caracteres\")\n",
    "_ = sns.boxplot(raw_df_filtered.text.str.len().values)"
   ]
  },
  {
   "cell_type": "markdown",
   "metadata": {},
   "source": [
    "### Existem 17174 tweets com mais de 140 caracteres. Uma parte disso é de qualidade bem ruim, mas a quantidade é irrelevante com relação ao tamanho do dataset."
   ]
  },
  {
   "cell_type": "code",
   "execution_count": 80,
   "metadata": {
    "scrolled": false
   },
   "outputs": [
    {
     "data": {
      "text/plain": [
       "17174"
      ]
     },
     "execution_count": 80,
     "metadata": {},
     "output_type": "execute_result"
    }
   ],
   "source": [
    "raw_df_filtered[raw_df_filtered.text.str.len() > 140].count().values[0]"
   ]
  },
  {
   "cell_type": "markdown",
   "metadata": {},
   "source": [
    "### O dataset está equilibrado?"
   ]
  },
  {
   "cell_type": "code",
   "execution_count": 81,
   "metadata": {
    "scrolled": true
   },
   "outputs": [
    {
     "data": {
      "text/html": [
       "<div>\n",
       "<style scoped>\n",
       "    .dataframe tbody tr th:only-of-type {\n",
       "        vertical-align: middle;\n",
       "    }\n",
       "\n",
       "    .dataframe tbody tr th {\n",
       "        vertical-align: top;\n",
       "    }\n",
       "\n",
       "    .dataframe thead th {\n",
       "        text-align: right;\n",
       "    }\n",
       "</style>\n",
       "<table border=\"1\" class=\"dataframe\">\n",
       "  <thead>\n",
       "    <tr style=\"text-align: right;\">\n",
       "      <th></th>\n",
       "      <th>text</th>\n",
       "    </tr>\n",
       "    <tr>\n",
       "      <th>sentiment</th>\n",
       "      <th></th>\n",
       "    </tr>\n",
       "  </thead>\n",
       "  <tbody>\n",
       "    <tr>\n",
       "      <th>0</th>\n",
       "      <td>800000</td>\n",
       "    </tr>\n",
       "    <tr>\n",
       "      <th>4</th>\n",
       "      <td>800000</td>\n",
       "    </tr>\n",
       "  </tbody>\n",
       "</table>\n",
       "</div>"
      ],
      "text/plain": [
       "             text\n",
       "sentiment        \n",
       "0          800000\n",
       "4          800000"
      ]
     },
     "execution_count": 81,
     "metadata": {},
     "output_type": "execute_result"
    }
   ],
   "source": [
    "raw_df_filtered.groupby('sentiment').count()"
   ]
  },
  {
   "cell_type": "markdown",
   "metadata": {},
   "source": [
    "### Sim, está equilibrado, mas é bom alterar o label para 0 e 1"
   ]
  },
  {
   "cell_type": "code",
   "execution_count": 82,
   "metadata": {
    "scrolled": true
   },
   "outputs": [],
   "source": [
    "raw_df_filtered.sentiment = raw_df_filtered.sentiment.apply(lambda x: 1 if x == 4 else 0)"
   ]
  },
  {
   "cell_type": "code",
   "execution_count": 83,
   "metadata": {
    "scrolled": true
   },
   "outputs": [
    {
     "data": {
      "text/html": [
       "<div>\n",
       "<style scoped>\n",
       "    .dataframe tbody tr th:only-of-type {\n",
       "        vertical-align: middle;\n",
       "    }\n",
       "\n",
       "    .dataframe tbody tr th {\n",
       "        vertical-align: top;\n",
       "    }\n",
       "\n",
       "    .dataframe thead th {\n",
       "        text-align: right;\n",
       "    }\n",
       "</style>\n",
       "<table border=\"1\" class=\"dataframe\">\n",
       "  <thead>\n",
       "    <tr style=\"text-align: right;\">\n",
       "      <th></th>\n",
       "      <th>text</th>\n",
       "    </tr>\n",
       "    <tr>\n",
       "      <th>sentiment</th>\n",
       "      <th></th>\n",
       "    </tr>\n",
       "  </thead>\n",
       "  <tbody>\n",
       "    <tr>\n",
       "      <th>0</th>\n",
       "      <td>800000</td>\n",
       "    </tr>\n",
       "    <tr>\n",
       "      <th>1</th>\n",
       "      <td>800000</td>\n",
       "    </tr>\n",
       "  </tbody>\n",
       "</table>\n",
       "</div>"
      ],
      "text/plain": [
       "             text\n",
       "sentiment        \n",
       "0          800000\n",
       "1          800000"
      ]
     },
     "execution_count": 83,
     "metadata": {},
     "output_type": "execute_result"
    }
   ],
   "source": [
    "raw_df_filtered.groupby('sentiment').count()"
   ]
  },
  {
   "cell_type": "markdown",
   "metadata": {},
   "source": [
    "### Vamos olhar alguns assuntos"
   ]
  },
  {
   "cell_type": "code",
   "execution_count": 84,
   "metadata": {},
   "outputs": [
    {
     "name": "stderr",
     "output_type": "stream",
     "text": [
      "C:\\Users\\Maas\\Anaconda3\\lib\\site-packages\\ipykernel_launcher.py:1: UserWarning: This pattern has match groups. To actually get the groups, use str.extract.\n",
      "  \"\"\"Entry point for launching an IPython kernel.\n"
     ]
    },
    {
     "data": {
      "text/html": [
       "<div>\n",
       "<style scoped>\n",
       "    .dataframe tbody tr th:only-of-type {\n",
       "        vertical-align: middle;\n",
       "    }\n",
       "\n",
       "    .dataframe tbody tr th {\n",
       "        vertical-align: top;\n",
       "    }\n",
       "\n",
       "    .dataframe thead th {\n",
       "        text-align: right;\n",
       "    }\n",
       "</style>\n",
       "<table border=\"1\" class=\"dataframe\">\n",
       "  <thead>\n",
       "    <tr style=\"text-align: right;\">\n",
       "      <th></th>\n",
       "      <th>text</th>\n",
       "    </tr>\n",
       "    <tr>\n",
       "      <th>sentiment</th>\n",
       "      <th></th>\n",
       "    </tr>\n",
       "  </thead>\n",
       "  <tbody>\n",
       "    <tr>\n",
       "      <th>0</th>\n",
       "      <td>614</td>\n",
       "    </tr>\n",
       "    <tr>\n",
       "      <th>1</th>\n",
       "      <td>479</td>\n",
       "    </tr>\n",
       "  </tbody>\n",
       "</table>\n",
       "</div>"
      ],
      "text/plain": [
       "           text\n",
       "sentiment      \n",
       "0           614\n",
       "1           479"
      ]
     },
     "execution_count": 84,
     "metadata": {},
     "output_type": "execute_result"
    }
   ],
   "source": [
    "raw_df_filtered[raw_df_filtered.text.str.contains('(software)|(engineering)|(developer)')].groupby('sentiment').count()"
   ]
  },
  {
   "cell_type": "code",
   "execution_count": 85,
   "metadata": {
    "scrolled": true
   },
   "outputs": [
    {
     "name": "stderr",
     "output_type": "stream",
     "text": [
      "C:\\Users\\Maas\\Anaconda3\\lib\\site-packages\\ipykernel_launcher.py:1: UserWarning: This pattern has match groups. To actually get the groups, use str.extract.\n",
      "  \"\"\"Entry point for launching an IPython kernel.\n"
     ]
    },
    {
     "data": {
      "text/html": [
       "<div>\n",
       "<style scoped>\n",
       "    .dataframe tbody tr th:only-of-type {\n",
       "        vertical-align: middle;\n",
       "    }\n",
       "\n",
       "    .dataframe tbody tr th {\n",
       "        vertical-align: top;\n",
       "    }\n",
       "\n",
       "    .dataframe thead th {\n",
       "        text-align: right;\n",
       "    }\n",
       "</style>\n",
       "<table border=\"1\" class=\"dataframe\">\n",
       "  <thead>\n",
       "    <tr style=\"text-align: right;\">\n",
       "      <th></th>\n",
       "      <th>text</th>\n",
       "    </tr>\n",
       "    <tr>\n",
       "      <th>sentiment</th>\n",
       "      <th></th>\n",
       "    </tr>\n",
       "  </thead>\n",
       "  <tbody>\n",
       "    <tr>\n",
       "      <th>0</th>\n",
       "      <td>546</td>\n",
       "    </tr>\n",
       "    <tr>\n",
       "      <th>1</th>\n",
       "      <td>868</td>\n",
       "    </tr>\n",
       "  </tbody>\n",
       "</table>\n",
       "</div>"
      ],
      "text/plain": [
       "           text\n",
       "sentiment      \n",
       "0           546\n",
       "1           868"
      ]
     },
     "execution_count": 85,
     "metadata": {},
     "output_type": "execute_result"
    }
   ],
   "source": [
    "raw_df_filtered[raw_df_filtered.text.str.contains('(Michael)|(Jackson)|(madonna)')].groupby('sentiment').count()"
   ]
  },
  {
   "cell_type": "code",
   "execution_count": 86,
   "metadata": {
    "scrolled": true
   },
   "outputs": [
    {
     "name": "stderr",
     "output_type": "stream",
     "text": [
      "C:\\Users\\Maas\\Anaconda3\\lib\\site-packages\\ipykernel_launcher.py:1: UserWarning: This pattern has match groups. To actually get the groups, use str.extract.\n",
      "  \"\"\"Entry point for launching an IPython kernel.\n"
     ]
    },
    {
     "data": {
      "text/html": [
       "<div>\n",
       "<style scoped>\n",
       "    .dataframe tbody tr th:only-of-type {\n",
       "        vertical-align: middle;\n",
       "    }\n",
       "\n",
       "    .dataframe tbody tr th {\n",
       "        vertical-align: top;\n",
       "    }\n",
       "\n",
       "    .dataframe thead th {\n",
       "        text-align: right;\n",
       "    }\n",
       "</style>\n",
       "<table border=\"1\" class=\"dataframe\">\n",
       "  <thead>\n",
       "    <tr style=\"text-align: right;\">\n",
       "      <th></th>\n",
       "      <th>text</th>\n",
       "    </tr>\n",
       "    <tr>\n",
       "      <th>sentiment</th>\n",
       "      <th></th>\n",
       "    </tr>\n",
       "  </thead>\n",
       "  <tbody>\n",
       "    <tr>\n",
       "      <th>0</th>\n",
       "      <td>13985</td>\n",
       "    </tr>\n",
       "    <tr>\n",
       "      <th>1</th>\n",
       "      <td>15648</td>\n",
       "    </tr>\n",
       "  </tbody>\n",
       "</table>\n",
       "</div>"
      ],
      "text/plain": [
       "            text\n",
       "sentiment       \n",
       "0          13985\n",
       "1          15648"
      ]
     },
     "execution_count": 86,
     "metadata": {},
     "output_type": "execute_result"
    }
   ],
   "source": [
    "raw_df_filtered[raw_df_filtered.text.str.contains('(friend)')].groupby('sentiment').count()"
   ]
  },
  {
   "cell_type": "code",
   "execution_count": 87,
   "metadata": {
    "scrolled": false
   },
   "outputs": [
    {
     "name": "stderr",
     "output_type": "stream",
     "text": [
      "C:\\Users\\Maas\\Anaconda3\\lib\\site-packages\\ipykernel_launcher.py:1: UserWarning: This pattern has match groups. To actually get the groups, use str.extract.\n",
      "  \"\"\"Entry point for launching an IPython kernel.\n"
     ]
    },
    {
     "data": {
      "text/html": [
       "<div>\n",
       "<style scoped>\n",
       "    .dataframe tbody tr th:only-of-type {\n",
       "        vertical-align: middle;\n",
       "    }\n",
       "\n",
       "    .dataframe tbody tr th {\n",
       "        vertical-align: top;\n",
       "    }\n",
       "\n",
       "    .dataframe thead th {\n",
       "        text-align: right;\n",
       "    }\n",
       "</style>\n",
       "<table border=\"1\" class=\"dataframe\">\n",
       "  <thead>\n",
       "    <tr style=\"text-align: right;\">\n",
       "      <th></th>\n",
       "      <th>sentiment</th>\n",
       "      <th>text</th>\n",
       "    </tr>\n",
       "  </thead>\n",
       "  <tbody>\n",
       "    <tr>\n",
       "      <th>21</th>\n",
       "      <td>0</td>\n",
       "      <td>one of my friend called me, and asked to meet with her at Mid Valley today...but i've no time *sigh*</td>\n",
       "    </tr>\n",
       "    <tr>\n",
       "      <th>39</th>\n",
       "      <td>0</td>\n",
       "      <td>Bed. Class 8-12. Work 12-3. Gym 3-5 or 6. Then class 6-10. Another day that's gonna fly by. I miss my girlfriend</td>\n",
       "    </tr>\n",
       "    <tr>\n",
       "      <th>51</th>\n",
       "      <td>0</td>\n",
       "      <td>@localtweeps Wow, tons of replies from you, may have to unfollow so I can see my friends' tweets, you're scrolling the feed a lot.</td>\n",
       "    </tr>\n",
       "    <tr>\n",
       "      <th>179</th>\n",
       "      <td>0</td>\n",
       "      <td>Staying at a friends house...house sitting, neighbors are SO loud-having a party</td>\n",
       "    </tr>\n",
       "    <tr>\n",
       "      <th>293</th>\n",
       "      <td>0</td>\n",
       "      <td>@riancurtis  i'm here, friend, and i love you.</td>\n",
       "    </tr>\n",
       "    <tr>\n",
       "      <th>381</th>\n",
       "      <td>0</td>\n",
       "      <td>HELP! I need a new boyfriend... I'm stuck in a rut</td>\n",
       "    </tr>\n",
       "    <tr>\n",
       "      <th>488</th>\n",
       "      <td>0</td>\n",
       "      <td>have watched that considering today. yaknow. shawnna tomomorrow;i need my bestfriend</td>\n",
       "    </tr>\n",
       "    <tr>\n",
       "      <th>517</th>\n",
       "      <td>0</td>\n",
       "      <td>http://is.gd/r8Zf,  http://is.gd/r8Zy, and  http://is.gd/r8ZG - test footage with my girlfriend (in HD) The dark one is underxposed</td>\n",
       "    </tr>\n",
       "    <tr>\n",
       "      <th>539</th>\n",
       "      <td>0</td>\n",
       "      <td>@KelleyRowe hey, you remember that time we used to be friends?? ;)  ugh. vomit. sick.  i need sleep</td>\n",
       "    </tr>\n",
       "    <tr>\n",
       "      <th>700</th>\n",
       "      <td>0</td>\n",
       "      <td>trying to figure out this twitter thing...none of my friends are on  yet. Soo much to see.</td>\n",
       "    </tr>\n",
       "    <tr>\n",
       "      <th>808</th>\n",
       "      <td>0</td>\n",
       "      <td>crying  my friend is moving away tomorrow</td>\n",
       "    </tr>\n",
       "    <tr>\n",
       "      <th>832</th>\n",
       "      <td>0</td>\n",
       "      <td>aaaaand back to my literature review  At least i have a friendly cup of coffee to keep me company.</td>\n",
       "    </tr>\n",
       "    <tr>\n",
       "      <th>866</th>\n",
       "      <td>0</td>\n",
       "      <td>jealous of my friends who got to see the new Star Trek film in Austin tonight.</td>\n",
       "    </tr>\n",
       "    <tr>\n",
       "      <th>1078</th>\n",
       "      <td>0</td>\n",
       "      <td>why do both of my best friends have to be shitty simultaneously?  Can u at least take turns hurting my feelings? jerks..    going 2 sleep.</td>\n",
       "    </tr>\n",
       "    <tr>\n",
       "      <th>1166</th>\n",
       "      <td>0</td>\n",
       "      <td>i miss my old friends from elementary ans middle school</td>\n",
       "    </tr>\n",
       "    <tr>\n",
       "      <th>1222</th>\n",
       "      <td>0</td>\n",
       "      <td>@gaspitsnicole sigh me too  mostly i midd hsnging out with my friends damn growing up : p</td>\n",
       "    </tr>\n",
       "    <tr>\n",
       "      <th>1233</th>\n",
       "      <td>0</td>\n",
       "      <td>@gaspitsnicole sigh me too  mostly i miss hsnging out with my friends damn growing up : p oh yeah i miss being able to spell too lol</td>\n",
       "    </tr>\n",
       "    <tr>\n",
       "      <th>1310</th>\n",
       "      <td>0</td>\n",
       "      <td>I miss my friends from elementary and middle school</td>\n",
       "    </tr>\n",
       "    <tr>\n",
       "      <th>1352</th>\n",
       "      <td>0</td>\n",
       "      <td>i miss my bcd friends</td>\n",
       "    </tr>\n",
       "    <tr>\n",
       "      <th>1411</th>\n",
       "      <td>0</td>\n",
       "      <td>poor Sandra Cantu. My heart goes out to her family and friends. Rest in Peace Little One!</td>\n",
       "    </tr>\n",
       "  </tbody>\n",
       "</table>\n",
       "</div>"
      ],
      "text/plain": [
       "      sentiment  \\\n",
       "21            0   \n",
       "39            0   \n",
       "51            0   \n",
       "179           0   \n",
       "293           0   \n",
       "381           0   \n",
       "488           0   \n",
       "517           0   \n",
       "539           0   \n",
       "700           0   \n",
       "808           0   \n",
       "832           0   \n",
       "866           0   \n",
       "1078          0   \n",
       "1166          0   \n",
       "1222          0   \n",
       "1233          0   \n",
       "1310          0   \n",
       "1352          0   \n",
       "1411          0   \n",
       "\n",
       "                                                                                                                                            text  \n",
       "21                                         one of my friend called me, and asked to meet with her at Mid Valley today...but i've no time *sigh*   \n",
       "39                             Bed. Class 8-12. Work 12-3. Gym 3-5 or 6. Then class 6-10. Another day that's gonna fly by. I miss my girlfriend   \n",
       "51           @localtweeps Wow, tons of replies from you, may have to unfollow so I can see my friends' tweets, you're scrolling the feed a lot.   \n",
       "179                                                            Staying at a friends house...house sitting, neighbors are SO loud-having a party   \n",
       "293                                                                                               @riancurtis  i'm here, friend, and i love you.  \n",
       "381                                                                                          HELP! I need a new boyfriend... I'm stuck in a rut   \n",
       "488                                                        have watched that considering today. yaknow. shawnna tomomorrow;i need my bestfriend   \n",
       "517         http://is.gd/r8Zf,  http://is.gd/r8Zy, and  http://is.gd/r8ZG - test footage with my girlfriend (in HD) The dark one is underxposed   \n",
       "539                                         @KelleyRowe hey, you remember that time we used to be friends?? ;)  ugh. vomit. sick.  i need sleep   \n",
       "700                                                   trying to figure out this twitter thing...none of my friends are on  yet. Soo much to see.  \n",
       "808                                                                                                   crying  my friend is moving away tomorrow   \n",
       "832                                           aaaaand back to my literature review  At least i have a friendly cup of coffee to keep me company.  \n",
       "866                                                              jealous of my friends who got to see the new Star Trek film in Austin tonight.   \n",
       "1078  why do both of my best friends have to be shitty simultaneously?  Can u at least take turns hurting my feelings? jerks..    going 2 sleep.  \n",
       "1166                                                                                    i miss my old friends from elementary ans middle school   \n",
       "1222                                                   @gaspitsnicole sigh me too  mostly i midd hsnging out with my friends damn growing up : p  \n",
       "1233        @gaspitsnicole sigh me too  mostly i miss hsnging out with my friends damn growing up : p oh yeah i miss being able to spell too lol  \n",
       "1310                                                                                        I miss my friends from elementary and middle school   \n",
       "1352                                                                                                                      i miss my bcd friends   \n",
       "1411                                                  poor Sandra Cantu. My heart goes out to her family and friends. Rest in Peace Little One!   "
      ]
     },
     "execution_count": 87,
     "metadata": {},
     "output_type": "execute_result"
    }
   ],
   "source": [
    "raw_df_filtered[raw_df_filtered.text.str.contains('(friend)')].head(20)"
   ]
  },
  {
   "cell_type": "markdown",
   "metadata": {},
   "source": [
    "### O dataset e grande, vamos pegar um subconjunto aleatório (equilibrado)"
   ]
  },
  {
   "cell_type": "code",
   "execution_count": 88,
   "metadata": {},
   "outputs": [
    {
     "data": {
      "text/html": [
       "<div>\n",
       "<style scoped>\n",
       "    .dataframe tbody tr th:only-of-type {\n",
       "        vertical-align: middle;\n",
       "    }\n",
       "\n",
       "    .dataframe tbody tr th {\n",
       "        vertical-align: top;\n",
       "    }\n",
       "\n",
       "    .dataframe thead th {\n",
       "        text-align: right;\n",
       "    }\n",
       "</style>\n",
       "<table border=\"1\" class=\"dataframe\">\n",
       "  <thead>\n",
       "    <tr style=\"text-align: right;\">\n",
       "      <th></th>\n",
       "      <th>text</th>\n",
       "    </tr>\n",
       "    <tr>\n",
       "      <th>sentiment</th>\n",
       "      <th></th>\n",
       "    </tr>\n",
       "  </thead>\n",
       "  <tbody>\n",
       "    <tr>\n",
       "      <th>0</th>\n",
       "      <td>100000</td>\n",
       "    </tr>\n",
       "    <tr>\n",
       "      <th>1</th>\n",
       "      <td>100000</td>\n",
       "    </tr>\n",
       "  </tbody>\n",
       "</table>\n",
       "</div>"
      ],
      "text/plain": [
       "             text\n",
       "sentiment        \n",
       "0          100000\n",
       "1          100000"
      ]
     },
     "execution_count": 88,
     "metadata": {},
     "output_type": "execute_result"
    }
   ],
   "source": [
    "#tamanho_amostra = 500_000\n",
    "#tamanho_amostra = 300_000\n",
    "tamanho_amostra = 200_000\n",
    "#tamanho_amostra = 100_000\n",
    "\n",
    "\n",
    "sample_df_0 = raw_df_filtered[raw_df_filtered.sentiment==0].sample(tamanho_amostra//2, random_state = 99)\n",
    "sample_df_1 = raw_df_filtered[raw_df_filtered.sentiment==1].sample(tamanho_amostra//2, random_state = 99)\n",
    "\n",
    "sample_df = pd.concat([sample_df_0, sample_df_1])\n",
    "\n",
    "del sample_df_0\n",
    "del sample_df_1\n",
    "\n",
    "del raw_df_filtered\n",
    "\n",
    "sample_df.groupby('sentiment').count()"
   ]
  },
  {
   "cell_type": "markdown",
   "metadata": {},
   "source": [
    "# Chegou a hora de vetorizar o dataset <a id=\"vet\">"
   ]
  },
  {
   "cell_type": "markdown",
   "metadata": {},
   "source": [
    "### Vamos usar o CountVectorizer"
   ]
  },
  {
   "cell_type": "markdown",
   "metadata": {},
   "source": [
    "### Intuitivamente, acreditamos que palavras raras não agregam na classificação porque:\n",
    "### - a raridade pode enviesar o seu significado devido à \"má sorte\" na amostra\n",
    "### - o vocabulário fica grande demais, dificultando o treino\n",
    "### - é possível que a memória não seja suficiente para tratar os dados\n",
    "### - existe uma grande chance de serem \"typos\""
   ]
  },
  {
   "cell_type": "markdown",
   "metadata": {},
   "source": [
    "### Mas qual taxa de frequência usar?"
   ]
  },
  {
   "cell_type": "markdown",
   "metadata": {},
   "source": [
    "### Vamos testar algumas taxas mínimas para ver o que acontece"
   ]
  },
  {
   "cell_type": "code",
   "execution_count": 89,
   "metadata": {},
   "outputs": [
    {
     "data": {
      "text/plain": [
       "160696"
      ]
     },
     "execution_count": 89,
     "metadata": {},
     "output_type": "execute_result"
    }
   ],
   "source": [
    "total_tokens = CountVectorizer(min_df = 1).fit_transform(sample_df.text.values).shape[1]\n",
    "total_tokens"
   ]
  },
  {
   "cell_type": "markdown",
   "metadata": {},
   "source": [
    "### O que acontece se exigirmos a presença em 2 documentos no mínimo?"
   ]
  },
  {
   "cell_type": "code",
   "execution_count": 90,
   "metadata": {
    "scrolled": true
   },
   "outputs": [
    {
     "data": {
      "text/plain": [
       "(200000, 44921)"
      ]
     },
     "execution_count": 90,
     "metadata": {},
     "output_type": "execute_result"
    }
   ],
   "source": [
    "CountVectorizer(min_df = 2).fit_transform(sample_df.text.values).shape"
   ]
  },
  {
   "cell_type": "markdown",
   "metadata": {},
   "source": [
    "### Vamos tentar achar alguma taxa que resulte em um número rasoável de tokens\n",
    "### Procuramos no intervalo entre 0.01% e 0.1% "
   ]
  },
  {
   "cell_type": "code",
   "execution_count": 91,
   "metadata": {},
   "outputs": [
    {
     "data": {
      "text/plain": [
       "array([0.0001, 0.0002, 0.0003, 0.0004, 0.0005, 0.0006, 0.0007, 0.0008,\n",
       "       0.0009, 0.001 ])"
      ]
     },
     "execution_count": 91,
     "metadata": {},
     "output_type": "execute_result"
    }
   ],
   "source": [
    "min_rate = np.linspace(.0001, .001, 10)\n",
    "min_rate"
   ]
  },
  {
   "cell_type": "code",
   "execution_count": 92,
   "metadata": {},
   "outputs": [],
   "source": [
    "def test_min(rate):\n",
    "    \n",
    "    r_list = []\n",
    "    tokens_list = []\n",
    "    \n",
    "    for r in rate:\n",
    "        \n",
    "        r_list.append(r*100)\n",
    "        \n",
    "        count_vectorizer = CountVectorizer(min_df = r)\n",
    "        \n",
    "        token_count = count_vectorizer.fit_transform(sample_df.text.values).shape[1]\n",
    "        \n",
    "        tokens_list.append(token_count)\n",
    "        \n",
    "        print(f'min: {r*100:.2f}% tokens: {token_count}')\n",
    "\n",
    "    plt.title('taxa x tokens')\n",
    "    plt.grid()\n",
    "    plt.axvline(x=0.05, color='r')\n",
    "    plt.plot(r_list, tokens_list)"
   ]
  },
  {
   "cell_type": "code",
   "execution_count": 93,
   "metadata": {
    "scrolled": false
   },
   "outputs": [
    {
     "name": "stdout",
     "output_type": "stream",
     "text": [
      "min: 0.01% tokens: 6428\n",
      "min: 0.02% tokens: 3815\n",
      "min: 0.03% tokens: 2846\n",
      "min: 0.04% tokens: 2305\n",
      "min: 0.05% tokens: 1921\n",
      "min: 0.06% tokens: 1683\n",
      "min: 0.07% tokens: 1495\n",
      "min: 0.08% tokens: 1343\n",
      "min: 0.09% tokens: 1224\n",
      "min: 0.10% tokens: 1138\n"
     ]
    },
    {
     "data": {
      "image/png": "[encoded data removed]",
      "text/plain": [
       "<Figure size 432x288 with 1 Axes>"
      ]
     },
     "metadata": {
      "needs_background": "light"
     },
     "output_type": "display_data"
    }
   ],
   "source": [
    "test_min(min_rate)"
   ]
  },
  {
   "cell_type": "markdown",
   "metadata": {},
   "source": [
    "### Com uma presença mínima de 0.05% chegamos a um número interessante de tokens, em torno das 2000 palavras."
   ]
  },
  {
   "cell_type": "code",
   "execution_count": 94,
   "metadata": {},
   "outputs": [],
   "source": [
    "#count_vectorizer_params = CountVectorizer(min_df = 0.0001, max_df = .05).fit_transform(sample_df.text.values)\n",
    "count_vectorizer_params = CountVectorizer(min_df = 0.0005, max_df = .05).fit_transform(sample_df.text.values)"
   ]
  },
  {
   "cell_type": "markdown",
   "metadata": {},
   "source": [
    "### Se exigirmos uma presença máxima em 5%, conseguimos eliminar mais alguns tokens, provavelmente, artigos, pronomes, conectivos..."
   ]
  },
  {
   "cell_type": "markdown",
   "metadata": {},
   "source": [
    "### Vamos ficar com esses valores, o que resulta em uma diminuição significativa"
   ]
  },
  {
   "cell_type": "code",
   "execution_count": 95,
   "metadata": {},
   "outputs": [
    {
     "name": "stdout",
     "output_type": "stream",
     "text": [
      "filtrado: 1891 - total: 160696 - taxa: 1.18%\n"
     ]
    }
   ],
   "source": [
    "print(f'filtrado: {count_vectorizer_params.shape[1]} - total:' + \\\n",
    "      f' {total_tokens} - taxa: {count_vectorizer_params.shape[1]/total_tokens *100:.2f}%')\n"
   ]
  },
  {
   "cell_type": "markdown",
   "metadata": {},
   "source": [
    "# Vamos testar o modelo Naive Bayes<a id='nb'></a>"
   ]
  },
  {
   "cell_type": "code",
   "execution_count": 96,
   "metadata": {},
   "outputs": [],
   "source": [
    "X_params = count_vectorizer_params.toarray()"
   ]
  },
  {
   "cell_type": "code",
   "execution_count": 97,
   "metadata": {},
   "outputs": [],
   "source": [
    "y_params = sample_df.sentiment.values"
   ]
  },
  {
   "cell_type": "code",
   "execution_count": 98,
   "metadata": {},
   "outputs": [],
   "source": [
    "X_train, X_test, y_train, y_test = train_test_split(X_params, y_params, test_size=0.30, random_state=99)"
   ]
  },
  {
   "cell_type": "code",
   "execution_count": 99,
   "metadata": {},
   "outputs": [
    {
     "data": {
      "text/plain": [
       "MultinomialNB(alpha=1.0, class_prior=None, fit_prior=True)"
      ]
     },
     "execution_count": 99,
     "metadata": {},
     "output_type": "execute_result"
    }
   ],
   "source": [
    "nb = MultinomialNB()\n",
    "\n",
    "nb.fit(X_train, y_train)"
   ]
  },
  {
   "cell_type": "markdown",
   "metadata": {},
   "source": [
    "### Apesar do número bastante inferior de tokens, não houve perda significativa na classificação"
   ]
  },
  {
   "cell_type": "code",
   "execution_count": 100,
   "metadata": {},
   "outputs": [
    {
     "data": {
      "text/plain": [
       "0.7473"
      ]
     },
     "execution_count": 100,
     "metadata": {},
     "output_type": "execute_result"
    }
   ],
   "source": [
    "accuracy_score(y_test, nb.predict(X_test))"
   ]
  },
  {
   "cell_type": "code",
   "execution_count": 101,
   "metadata": {
    "scrolled": false
   },
   "outputs": [
    {
     "name": "stdout",
     "output_type": "stream",
     "text": [
      "              precision    recall  f1-score   support\n",
      "\n",
      "         neg       0.74      0.77      0.75     29922\n",
      "         pos       0.76      0.73      0.74     30078\n",
      "\n",
      "   micro avg       0.75      0.75      0.75     60000\n",
      "   macro avg       0.75      0.75      0.75     60000\n",
      "weighted avg       0.75      0.75      0.75     60000\n",
      "\n"
     ]
    }
   ],
   "source": [
    "target_names = ['neg', 'pos']\n",
    "print(classification_report(y_test, nb.predict(X_test), target_names=target_names))"
   ]
  },
  {
   "cell_type": "markdown",
   "metadata": {},
   "source": [
    "### F1 score é uma boa opção quando a regra de negócio não determinou o que é mais importante entre:\n",
    "### - precisão do 'chute' e\n",
    "### - sensibilidade"
   ]
  },
  {
   "cell_type": "code",
   "execution_count": 102,
   "metadata": {},
   "outputs": [
    {
     "data": {
      "text/plain": [
       "[<matplotlib.lines.Line2D at 0x21e5425dba8>]"
      ]
     },
     "execution_count": 102,
     "metadata": {},
     "output_type": "execute_result"
    },
    {
     "data": {
      "image/png": "[encoded data removed]",
      "text/plain": [
       "<Figure size 432x288 with 1 Axes>"
      ]
     },
     "metadata": {
      "needs_background": "light"
     },
     "output_type": "display_data"
    }
   ],
   "source": [
    "prec = np.ones(100) * 100\n",
    "rec = np.linspace(0,100, 100)\n",
    "F1 = 2 * (prec * rec) / (prec + rec)\n",
    "plt.grid()\n",
    "plt.xlabel('recall')\n",
    "plt.ylabel('F1')\n",
    "plt.title('F1 Score para precision constante de 100')\n",
    "plt.plot(rec, F1)"
   ]
  },
  {
   "cell_type": "code",
   "execution_count": null,
   "metadata": {},
   "outputs": [],
   "source": []
  },
  {
   "cell_type": "markdown",
   "metadata": {},
   "source": [
    "# Vamos testar com um modelo de Support Vector Machine <a id=\"svm\">"
   ]
  },
  {
   "cell_type": "code",
   "execution_count": 103,
   "metadata": {},
   "outputs": [],
   "source": [
    "svc = LinearSVC(random_state=99)"
   ]
  },
  {
   "cell_type": "code",
   "execution_count": 104,
   "metadata": {},
   "outputs": [
    {
     "name": "stderr",
     "output_type": "stream",
     "text": [
      "C:\\Users\\Maas\\Anaconda3\\lib\\site-packages\\sklearn\\svm\\base.py:931: ConvergenceWarning: Liblinear failed to converge, increase the number of iterations.\n",
      "  \"the number of iterations.\", ConvergenceWarning)\n"
     ]
    },
    {
     "data": {
      "text/plain": [
       "LinearSVC(C=1.0, class_weight=None, dual=True, fit_intercept=True,\n",
       "     intercept_scaling=1, loss='squared_hinge', max_iter=1000,\n",
       "     multi_class='ovr', penalty='l2', random_state=99, tol=0.0001,\n",
       "     verbose=0)"
      ]
     },
     "execution_count": 104,
     "metadata": {},
     "output_type": "execute_result"
    }
   ],
   "source": [
    "svc.fit(X_train, y_train)"
   ]
  },
  {
   "cell_type": "markdown",
   "metadata": {},
   "source": [
    "### Podemos dizer que houve um empate entre os modelos SVM e Naive Bayes"
   ]
  },
  {
   "cell_type": "code",
   "execution_count": 105,
   "metadata": {},
   "outputs": [
    {
     "data": {
      "text/plain": [
       "0.76175"
      ]
     },
     "execution_count": 105,
     "metadata": {},
     "output_type": "execute_result"
    }
   ],
   "source": [
    "accuracy_score(y_test, svc.predict(X_test))"
   ]
  },
  {
   "cell_type": "code",
   "execution_count": 106,
   "metadata": {
    "scrolled": false
   },
   "outputs": [
    {
     "name": "stdout",
     "output_type": "stream",
     "text": [
      "              precision    recall  f1-score   support\n",
      "\n",
      "         neg       0.78      0.72      0.75     29922\n",
      "         pos       0.74      0.80      0.77     30078\n",
      "\n",
      "   micro avg       0.76      0.76      0.76     60000\n",
      "   macro avg       0.76      0.76      0.76     60000\n",
      "weighted avg       0.76      0.76      0.76     60000\n",
      "\n"
     ]
    }
   ],
   "source": [
    "target_names = ['neg', 'pos']\n",
    "print(classification_report(y_test, svc.predict(X_test), target_names=target_names))"
   ]
  },
  {
   "cell_type": "markdown",
   "metadata": {},
   "source": [
    "# Deep Learning <a id=\"dl\">"
   ]
  },
  {
   "cell_type": "markdown",
   "metadata": {},
   "source": [
    "### MLP<a id=\"mlp\">"
   ]
  },
  {
   "cell_type": "markdown",
   "metadata": {},
   "source": [
    "### Aqui começaremos com um modelo MLP. Com o aumento da complexidade, esperamos um rendimento que justifique esse custo maior."
   ]
  },
  {
   "cell_type": "code",
   "execution_count": 107,
   "metadata": {},
   "outputs": [
    {
     "data": {
      "text/plain": [
       "(140000, 1891)"
      ]
     },
     "execution_count": 107,
     "metadata": {},
     "output_type": "execute_result"
    }
   ],
   "source": [
    "X_train.shape"
   ]
  },
  {
   "cell_type": "code",
   "execution_count": 131,
   "metadata": {},
   "outputs": [],
   "source": [
    "model_mlp = Sequential()\n",
    "\n",
    "model_mlp.add(Input(shape=(X_train.shape[1],)))\n",
    "model_mlp.add(Dense(128, activation='sigmoid'))\n",
    "model_mlp.add(Dense(128, activation='sigmoid'))\n",
    "model_mlp.add(Dense(128, activation='sigmoid'))\n",
    "model_mlp.add(Dense(1, activation='sigmoid'))"
   ]
  },
  {
   "cell_type": "markdown",
   "metadata": {},
   "source": [
    "### EarlyStopping baseado na acurácia de validação"
   ]
  },
  {
   "cell_type": "code",
   "execution_count": 132,
   "metadata": {},
   "outputs": [],
   "source": [
    "callback_es_mlp = EarlyStopping(\n",
    "    monitor=\"val_acc\",\n",
    "    min_delta=0,\n",
    "    patience=20,\n",
    "    verbose=0,\n",
    "    mode=\"auto\",\n",
    "    baseline=None,\n",
    "    restore_best_weights=False,\n",
    ")\n",
    "\n",
    "checkpoint_filepath_mlp = './mlp/'\n",
    "\n",
    "\n",
    "\n",
    "model_checkpoint_callback_mlp = ModelCheckpoint(\n",
    "    filepath=checkpoint_filepath_mlp,\n",
    "    save_weights_only=True,\n",
    "    monitor='val_acc',\n",
    "    mode='max',\n",
    "    save_best_only=True)\n",
    "\n"
   ]
  },
  {
   "cell_type": "code",
   "execution_count": 133,
   "metadata": {},
   "outputs": [],
   "source": [
    "opt_mlp = RMSprop(\n",
    "    learning_rate=0.0001,\n",
    "    rho=0.9,\n",
    "    momentum=0.01,\n",
    "    epsilon=1e-07,\n",
    "    centered=False,\n",
    "    name=\"RMSprop\",\n",
    ")\n",
    "\n",
    "opt2_mlp = Adam(\n",
    "    learning_rate=0.0005,\n",
    "    beta_1=0.9,\n",
    "    beta_2=0.999,\n",
    "    epsilon=1e-07,\n",
    "    amsgrad=False,\n",
    "    name=\"Adam\"\n",
    ")\n",
    "\n",
    "opt3_mlp = SGD(\n",
    "    learning_rate=0.01, momentum=0.0, nesterov=False, name=\"SGD\"\n",
    ")\n",
    "\n",
    "\n",
    "model_mlp.compile(optimizer=opt_mlp, loss='binary_crossentropy', metrics=['acc'])\n"
   ]
  },
  {
   "cell_type": "code",
   "execution_count": 134,
   "metadata": {},
   "outputs": [
    {
     "name": "stdout",
     "output_type": "stream",
     "text": [
      "Model: \"sequential_9\"\n",
      "_________________________________________________________________\n",
      "Layer (type)                 Output Shape              Param #   \n",
      "=================================================================\n",
      "dense_16 (Dense)             (None, 128)               242176    \n",
      "_________________________________________________________________\n",
      "dense_17 (Dense)             (None, 128)               16512     \n",
      "_________________________________________________________________\n",
      "dense_18 (Dense)             (None, 128)               16512     \n",
      "_________________________________________________________________\n",
      "dense_19 (Dense)             (None, 1)                 129       \n",
      "=================================================================\n",
      "Total params: 275,329\n",
      "Trainable params: 275,329\n",
      "Non-trainable params: 0\n",
      "_________________________________________________________________\n"
     ]
    }
   ],
   "source": [
    "model_mlp.summary()"
   ]
  },
  {
   "cell_type": "markdown",
   "metadata": {},
   "source": [
    "<h1 style=\"color:red\">Treinar?</h1>"
   ]
  },
  {
   "cell_type": "code",
   "execution_count": 135,
   "metadata": {},
   "outputs": [],
   "source": [
    "TRAIN_MLP = True"
   ]
  },
  {
   "cell_type": "code",
   "execution_count": 136,
   "metadata": {
    "scrolled": true
   },
   "outputs": [
    {
     "name": "stdout",
     "output_type": "stream",
     "text": [
      "Epoch 1/100\n",
      "1641/1641 [==============================] - 3s 2ms/step - loss: 0.6935 - acc: 0.5031 - val_loss: 0.6937 - val_acc: 0.4989\n",
      "Epoch 2/100\n",
      "1641/1641 [==============================] - 3s 2ms/step - loss: 0.6929 - acc: 0.5074 - val_loss: 0.6931 - val_acc: 0.5011\n",
      "Epoch 3/100\n",
      "1641/1641 [==============================] - 3s 2ms/step - loss: 0.6917 - acc: 0.5227 - val_loss: 0.6906 - val_acc: 0.5020\n",
      "Epoch 4/100\n",
      "1641/1641 [==============================] - 3s 2ms/step - loss: 0.6878 - acc: 0.5656 - val_loss: 0.6824 - val_acc: 0.6673\n",
      "Epoch 5/100\n",
      "1641/1641 [==============================] - 3s 2ms/step - loss: 0.6688 - acc: 0.6502 - val_loss: 0.6474 - val_acc: 0.6507\n",
      "Epoch 6/100\n",
      "1641/1641 [==============================] - 3s 2ms/step - loss: 0.6107 - acc: 0.7029 - val_loss: 0.5784 - val_acc: 0.7255\n",
      "Epoch 7/100\n",
      "1641/1641 [==============================] - 3s 2ms/step - loss: 0.5575 - acc: 0.7285 - val_loss: 0.5455 - val_acc: 0.7417\n",
      "Epoch 8/100\n",
      "1641/1641 [==============================] - 3s 2ms/step - loss: 0.5327 - acc: 0.7431 - val_loss: 0.5307 - val_acc: 0.7511\n",
      "Epoch 9/100\n",
      "1641/1641 [==============================] - 3s 2ms/step - loss: 0.5195 - acc: 0.7537 - val_loss: 0.5234 - val_acc: 0.7555\n",
      "Epoch 10/100\n",
      "1641/1641 [==============================] - 3s 2ms/step - loss: 0.5118 - acc: 0.7586 - val_loss: 0.5174 - val_acc: 0.7549\n",
      "Epoch 11/100\n",
      "1641/1641 [==============================] - 3s 2ms/step - loss: 0.5069 - acc: 0.7618 - val_loss: 0.5166 - val_acc: 0.7592\n",
      "Epoch 12/100\n",
      "1641/1641 [==============================] - 3s 2ms/step - loss: 0.5034 - acc: 0.7639 - val_loss: 0.5112 - val_acc: 0.7627\n",
      "Epoch 13/100\n",
      "1641/1641 [==============================] - 3s 2ms/step - loss: 0.5009 - acc: 0.7665 - val_loss: 0.5094 - val_acc: 0.7632\n",
      "Epoch 14/100\n",
      "1641/1641 [==============================] - 3s 2ms/step - loss: 0.4991 - acc: 0.7669 - val_loss: 0.5082 - val_acc: 0.7637\n",
      "Epoch 15/100\n",
      "1641/1641 [==============================] - 3s 2ms/step - loss: 0.4975 - acc: 0.7666 - val_loss: 0.5073 - val_acc: 0.7643\n",
      "Epoch 16/100\n",
      "1641/1641 [==============================] - 3s 2ms/step - loss: 0.4963 - acc: 0.7677 - val_loss: 0.5067 - val_acc: 0.7638\n",
      "Epoch 17/100\n",
      "1641/1641 [==============================] - 3s 2ms/step - loss: 0.4953 - acc: 0.7689 - val_loss: 0.5076 - val_acc: 0.7654\n",
      "Epoch 18/100\n",
      "1641/1641 [==============================] - 3s 2ms/step - loss: 0.4946 - acc: 0.7689 - val_loss: 0.5058 - val_acc: 0.7645\n",
      "Epoch 19/100\n",
      "1641/1641 [==============================] - 3s 2ms/step - loss: 0.4940 - acc: 0.7689 - val_loss: 0.5051 - val_acc: 0.7657\n",
      "Epoch 20/100\n",
      "1641/1641 [==============================] - 3s 2ms/step - loss: 0.4932 - acc: 0.7704 - val_loss: 0.5058 - val_acc: 0.7658\n",
      "Epoch 21/100\n",
      "1641/1641 [==============================] - 3s 2ms/step - loss: 0.4927 - acc: 0.7704 - val_loss: 0.5046 - val_acc: 0.7654\n",
      "Epoch 22/100\n",
      "1641/1641 [==============================] - 3s 2ms/step - loss: 0.4923 - acc: 0.7703 - val_loss: 0.5066 - val_acc: 0.7648\n",
      "Epoch 23/100\n",
      "1641/1641 [==============================] - 3s 2ms/step - loss: 0.4920 - acc: 0.7706 - val_loss: 0.5076 - val_acc: 0.7597\n",
      "Epoch 24/100\n",
      "1641/1641 [==============================] - 3s 2ms/step - loss: 0.4914 - acc: 0.7702 - val_loss: 0.5041 - val_acc: 0.7662\n",
      "Epoch 25/100\n",
      "1641/1641 [==============================] - 3s 2ms/step - loss: 0.4912 - acc: 0.7713 - val_loss: 0.5035 - val_acc: 0.7663\n",
      "Epoch 26/100\n",
      "1641/1641 [==============================] - 3s 2ms/step - loss: 0.4909 - acc: 0.7706 - val_loss: 0.5038 - val_acc: 0.7654\n",
      "Epoch 27/100\n",
      "1641/1641 [==============================] - 3s 2ms/step - loss: 0.4905 - acc: 0.7712 - val_loss: 0.5047 - val_acc: 0.7666\n",
      "Epoch 28/100\n",
      "1641/1641 [==============================] - 3s 2ms/step - loss: 0.4904 - acc: 0.7717 - val_loss: 0.5032 - val_acc: 0.7662\n",
      "Epoch 29/100\n",
      "1641/1641 [==============================] - 3s 2ms/step - loss: 0.4902 - acc: 0.7712 - val_loss: 0.5031 - val_acc: 0.7669\n",
      "Epoch 30/100\n",
      "1641/1641 [==============================] - 3s 2ms/step - loss: 0.4901 - acc: 0.7718 - val_loss: 0.5030 - val_acc: 0.7669\n",
      "Epoch 31/100\n",
      "1641/1641 [==============================] - 3s 2ms/step - loss: 0.4899 - acc: 0.7717 - val_loss: 0.5029 - val_acc: 0.7667\n",
      "Epoch 32/100\n",
      "1641/1641 [==============================] - 3s 2ms/step - loss: 0.4896 - acc: 0.7719 - val_loss: 0.5029 - val_acc: 0.7669\n",
      "Epoch 33/100\n",
      "1641/1641 [==============================] - 3s 2ms/step - loss: 0.4894 - acc: 0.7712 - val_loss: 0.5052 - val_acc: 0.7630\n",
      "Epoch 34/100\n",
      "1641/1641 [==============================] - 3s 2ms/step - loss: 0.4893 - acc: 0.7715 - val_loss: 0.5030 - val_acc: 0.7675\n",
      "Epoch 35/100\n",
      "1641/1641 [==============================] - 3s 2ms/step - loss: 0.4892 - acc: 0.7723 - val_loss: 0.5031 - val_acc: 0.7666\n",
      "Epoch 36/100\n",
      "1641/1641 [==============================] - 3s 2ms/step - loss: 0.4889 - acc: 0.7726 - val_loss: 0.5027 - val_acc: 0.7673\n",
      "Epoch 37/100\n",
      "1641/1641 [==============================] - 3s 2ms/step - loss: 0.4888 - acc: 0.7721 - val_loss: 0.5026 - val_acc: 0.7666\n",
      "Epoch 38/100\n",
      "1641/1641 [==============================] - 3s 2ms/step - loss: 0.4886 - acc: 0.7726 - val_loss: 0.5030 - val_acc: 0.7664\n",
      "Epoch 39/100\n",
      "1641/1641 [==============================] - 3s 2ms/step - loss: 0.4886 - acc: 0.7724 - val_loss: 0.5026 - val_acc: 0.7675\n",
      "Epoch 40/100\n",
      "1641/1641 [==============================] - 3s 2ms/step - loss: 0.4884 - acc: 0.7727 - val_loss: 0.5028 - val_acc: 0.7669\n",
      "Epoch 41/100\n",
      "1641/1641 [==============================] - 3s 2ms/step - loss: 0.4883 - acc: 0.7724 - val_loss: 0.5025 - val_acc: 0.7667\n",
      "Epoch 42/100\n",
      "1641/1641 [==============================] - 3s 2ms/step - loss: 0.4881 - acc: 0.7728 - val_loss: 0.5044 - val_acc: 0.7660\n",
      "Epoch 43/100\n",
      "1641/1641 [==============================] - 3s 2ms/step - loss: 0.4879 - acc: 0.7730 - val_loss: 0.5022 - val_acc: 0.7667\n",
      "Epoch 44/100\n",
      "1641/1641 [==============================] - 3s 2ms/step - loss: 0.4879 - acc: 0.7729 - val_loss: 0.5023 - val_acc: 0.7676\n",
      "Epoch 45/100\n",
      "1641/1641 [==============================] - 3s 2ms/step - loss: 0.4879 - acc: 0.7734 - val_loss: 0.5034 - val_acc: 0.7667\n",
      "Epoch 46/100\n",
      "1641/1641 [==============================] - 3s 2ms/step - loss: 0.4877 - acc: 0.7731 - val_loss: 0.5025 - val_acc: 0.7665\n",
      "Epoch 47/100\n",
      "1641/1641 [==============================] - 3s 2ms/step - loss: 0.4875 - acc: 0.7730 - val_loss: 0.5022 - val_acc: 0.7677\n",
      "Epoch 48/100\n",
      "1641/1641 [==============================] - 3s 2ms/step - loss: 0.4874 - acc: 0.7732 - val_loss: 0.5042 - val_acc: 0.7662\n",
      "Epoch 49/100\n",
      "1641/1641 [==============================] - 3s 2ms/step - loss: 0.4873 - acc: 0.7727 - val_loss: 0.5044 - val_acc: 0.7642\n",
      "Epoch 50/100\n",
      "1641/1641 [==============================] - 3s 2ms/step - loss: 0.4872 - acc: 0.7733 - val_loss: 0.5018 - val_acc: 0.7677\n",
      "Epoch 51/100\n",
      "1641/1641 [==============================] - 3s 2ms/step - loss: 0.4871 - acc: 0.7723 - val_loss: 0.5016 - val_acc: 0.7673\n",
      "Epoch 52/100\n",
      "1641/1641 [==============================] - 3s 2ms/step - loss: 0.4869 - acc: 0.7737 - val_loss: 0.5016 - val_acc: 0.7675\n",
      "Epoch 53/100\n",
      "1641/1641 [==============================] - 3s 2ms/step - loss: 0.4869 - acc: 0.7727 - val_loss: 0.5020 - val_acc: 0.7662\n",
      "Epoch 54/100\n",
      "1641/1641 [==============================] - 3s 2ms/step - loss: 0.4868 - acc: 0.7736 - val_loss: 0.5015 - val_acc: 0.7670\n",
      "Epoch 55/100\n",
      "1641/1641 [==============================] - 3s 2ms/step - loss: 0.4867 - acc: 0.7734 - val_loss: 0.5018 - val_acc: 0.7673\n",
      "Epoch 56/100\n",
      "1641/1641 [==============================] - 3s 2ms/step - loss: 0.4865 - acc: 0.7738 - val_loss: 0.5027 - val_acc: 0.7651\n",
      "Epoch 57/100\n",
      "1641/1641 [==============================] - 3s 2ms/step - loss: 0.4865 - acc: 0.7734 - val_loss: 0.5016 - val_acc: 0.7663\n",
      "Epoch 58/100\n",
      "1641/1641 [==============================] - 3s 2ms/step - loss: 0.4863 - acc: 0.7734 - val_loss: 0.5014 - val_acc: 0.7677\n",
      "Epoch 59/100\n",
      "1641/1641 [==============================] - 3s 2ms/step - loss: 0.4863 - acc: 0.7734 - val_loss: 0.5018 - val_acc: 0.7674\n",
      "Epoch 60/100\n",
      "1641/1641 [==============================] - 3s 2ms/step - loss: 0.4862 - acc: 0.7738 - val_loss: 0.5018 - val_acc: 0.7659\n",
      "Epoch 61/100\n"
     ]
    },
    {
     "name": "stdout",
     "output_type": "stream",
     "text": [
      "1641/1641 [==============================] - 3s 2ms/step - loss: 0.4861 - acc: 0.7736 - val_loss: 0.5016 - val_acc: 0.7664\n",
      "Epoch 62/100\n",
      "1641/1641 [==============================] - 3s 2ms/step - loss: 0.4860 - acc: 0.7732 - val_loss: 0.5032 - val_acc: 0.7646\n",
      "Epoch 63/100\n",
      "1641/1641 [==============================] - 3s 2ms/step - loss: 0.4860 - acc: 0.7737 - val_loss: 0.5021 - val_acc: 0.7669\n",
      "Epoch 64/100\n",
      "1641/1641 [==============================] - 3s 2ms/step - loss: 0.4859 - acc: 0.7741 - val_loss: 0.5014 - val_acc: 0.7673\n",
      "Epoch 65/100\n",
      "1641/1641 [==============================] - 3s 2ms/step - loss: 0.4857 - acc: 0.7741 - val_loss: 0.5013 - val_acc: 0.7675\n",
      "Epoch 66/100\n",
      "1641/1641 [==============================] - 3s 2ms/step - loss: 0.4858 - acc: 0.7738 - val_loss: 0.5009 - val_acc: 0.7679\n",
      "Epoch 67/100\n",
      "1641/1641 [==============================] - 3s 2ms/step - loss: 0.4855 - acc: 0.7735 - val_loss: 0.5012 - val_acc: 0.7679\n",
      "Epoch 68/100\n",
      "1641/1641 [==============================] - 3s 2ms/step - loss: 0.4855 - acc: 0.7735 - val_loss: 0.5008 - val_acc: 0.7670\n",
      "Epoch 69/100\n",
      "1641/1641 [==============================] - 3s 2ms/step - loss: 0.4854 - acc: 0.7736 - val_loss: 0.5008 - val_acc: 0.7667\n",
      "Epoch 70/100\n",
      "1641/1641 [==============================] - 3s 2ms/step - loss: 0.4852 - acc: 0.7736 - val_loss: 0.5018 - val_acc: 0.7671\n",
      "Epoch 71/100\n",
      "1641/1641 [==============================] - 3s 2ms/step - loss: 0.4853 - acc: 0.7740 - val_loss: 0.5021 - val_acc: 0.7654\n",
      "Epoch 72/100\n",
      "1641/1641 [==============================] - 3s 2ms/step - loss: 0.4852 - acc: 0.7743 - val_loss: 0.5005 - val_acc: 0.7671\n",
      "Epoch 73/100\n",
      "1641/1641 [==============================] - 3s 2ms/step - loss: 0.4851 - acc: 0.7738 - val_loss: 0.5011 - val_acc: 0.7661\n",
      "Epoch 74/100\n",
      "1641/1641 [==============================] - 3s 2ms/step - loss: 0.4851 - acc: 0.7742 - val_loss: 0.5022 - val_acc: 0.7657\n",
      "Epoch 75/100\n",
      "1641/1641 [==============================] - 3s 2ms/step - loss: 0.4850 - acc: 0.7745 - val_loss: 0.5006 - val_acc: 0.7677\n",
      "Epoch 76/100\n",
      "1641/1641 [==============================] - 3s 2ms/step - loss: 0.4848 - acc: 0.7749 - val_loss: 0.5015 - val_acc: 0.7674\n",
      "Epoch 77/100\n",
      "1641/1641 [==============================] - 3s 2ms/step - loss: 0.4849 - acc: 0.7741 - val_loss: 0.5002 - val_acc: 0.7668\n",
      "Epoch 78/100\n",
      "1641/1641 [==============================] - 3s 2ms/step - loss: 0.4848 - acc: 0.7741 - val_loss: 0.5008 - val_acc: 0.7675\n",
      "Epoch 79/100\n",
      "1641/1641 [==============================] - 3s 2ms/step - loss: 0.4847 - acc: 0.7750 - val_loss: 0.5003 - val_acc: 0.7676\n",
      "Epoch 80/100\n",
      "1641/1641 [==============================] - 3s 2ms/step - loss: 0.4847 - acc: 0.7741 - val_loss: 0.5007 - val_acc: 0.7676\n",
      "Epoch 81/100\n",
      "1641/1641 [==============================] - 3s 2ms/step - loss: 0.4847 - acc: 0.7744 - val_loss: 0.5010 - val_acc: 0.7659\n",
      "Epoch 82/100\n",
      "1641/1641 [==============================] - 3s 2ms/step - loss: 0.4846 - acc: 0.7753 - val_loss: 0.5003 - val_acc: 0.7675\n",
      "Epoch 83/100\n",
      "1641/1641 [==============================] - 3s 2ms/step - loss: 0.4845 - acc: 0.7747 - val_loss: 0.5030 - val_acc: 0.7663\n",
      "Epoch 84/100\n",
      "1641/1641 [==============================] - 3s 2ms/step - loss: 0.4844 - acc: 0.7750 - val_loss: 0.5001 - val_acc: 0.7673\n",
      "Epoch 85/100\n",
      "1641/1641 [==============================] - 3s 2ms/step - loss: 0.4844 - acc: 0.7748 - val_loss: 0.5012 - val_acc: 0.7676\n",
      "Epoch 86/100\n",
      "1641/1641 [==============================] - 3s 2ms/step - loss: 0.4844 - acc: 0.7745 - val_loss: 0.5000 - val_acc: 0.7677\n"
     ]
    }
   ],
   "source": [
    "history_mlp = {}\n",
    "\n",
    "if TRAIN_MLP:\n",
    "    history_mlp = model_mlp.fit(X_train, y_train, epochs=100, batch_size=64, validation_split=0.25,\n",
    "                    callbacks=[callback_es_mlp, model_checkpoint_callback_mlp])\n",
    "else:\n",
    "    model_mlp.load_weights(checkpoint_filepath_mlp)"
   ]
  },
  {
   "cell_type": "markdown",
   "metadata": {},
   "source": [
    "### O resultado foi mais estável com a sigmoid. \n",
    "### A relu teria dado overfitting se não fosse o early stopping."
   ]
  },
  {
   "cell_type": "code",
   "execution_count": 137,
   "metadata": {},
   "outputs": [
    {
     "data": {
      "image/png": "[encoded data removed]",
      "text/plain": [
       "<Figure size 432x288 with 1 Axes>"
      ]
     },
     "metadata": {
      "needs_background": "light"
     },
     "output_type": "display_data"
    }
   ],
   "source": [
    "plt.plot(history_mlp.history['acc'])\n",
    "plt.plot(history_mlp.history['val_acc'])\n",
    "plt.title('model accuracy')\n",
    "plt.ylabel('accuracy')\n",
    "plt.xlabel('epoch')\n",
    "plt.grid()\n",
    "plt.legend(['train', 'test'], loc='lower right')\n",
    "plt.show()"
   ]
  },
  {
   "cell_type": "code",
   "execution_count": 138,
   "metadata": {},
   "outputs": [
    {
     "data": {
      "text/plain": [
       "0.76375"
      ]
     },
     "execution_count": 138,
     "metadata": {},
     "output_type": "execute_result"
    }
   ],
   "source": [
    "accuracy_score(y_test, np.round(model_mlp.predict(X_test)))"
   ]
  },
  {
   "cell_type": "code",
   "execution_count": 139,
   "metadata": {
    "scrolled": true
   },
   "outputs": [
    {
     "name": "stdout",
     "output_type": "stream",
     "text": [
      "              precision    recall  f1-score   support\n",
      "\n",
      "         neg       0.77      0.75      0.76     29922\n",
      "         pos       0.76      0.77      0.77     30078\n",
      "\n",
      "   micro avg       0.76      0.76      0.76     60000\n",
      "   macro avg       0.76      0.76      0.76     60000\n",
      "weighted avg       0.76      0.76      0.76     60000\n",
      "\n"
     ]
    }
   ],
   "source": [
    "target_names = ['neg', 'pos']\n",
    "print(classification_report(y_test, np.round(model_mlp.predict(X_test)), target_names=target_names))"
   ]
  },
  {
   "cell_type": "markdown",
   "metadata": {},
   "source": [
    "### RNN<a id=\"rnn\">"
   ]
  },
  {
   "cell_type": "markdown",
   "metadata": {},
   "source": [
    "### Vamos usar outra estratégia de vetorização. Agora o resultado é uma série de vetores com os índices dos tokens em cada tweet na ordem em que eles aparecem."
   ]
  },
  {
   "cell_type": "markdown",
   "metadata": {},
   "source": [
    "### Com isso, nosso 'X' ficará bem menor porque, teoricamente, a largura máxima dele seria < 140, dado o tamanho de um tweet em caracteres."
   ]
  },
  {
   "cell_type": "markdown",
   "metadata": {},
   "source": [
    "### Assim, podemos nos dar o luxo de trabalhar com uma quantidade maior de palavras, o que a memória não nos permitia quando a vetorização resultava em um vetor esparso."
   ]
  },
  {
   "cell_type": "code",
   "execution_count": 246,
   "metadata": {},
   "outputs": [
    {
     "name": "stdout",
     "output_type": "stream",
     "text": [
      "Quantidade de palavras encontradas pelo CountVectorizer: 160696\n"
     ]
    }
   ],
   "source": [
    "print(f'Quantidade de palavras encontradas pelo CountVectorizer: {total_tokens}')"
   ]
  },
  {
   "cell_type": "code",
   "execution_count": 176,
   "metadata": {},
   "outputs": [],
   "source": [
    "#max_words = 2_000\n",
    "max_words = 30_000\n",
    "\n",
    "\n",
    "tokenizer = Tokenizer(num_words = max_words, lower=True, split=\" \")\n",
    "\n",
    "tokenizer.fit_on_texts(sample_df.text.values)\n",
    "\n",
    "tokens = tokenizer.texts_to_sequences(sample_df.text.values)"
   ]
  },
  {
   "cell_type": "markdown",
   "metadata": {},
   "source": [
    "### Esse tokenizer resulta em um array de índices de tokens, por isso, ele tem tamanho variável"
   ]
  },
  {
   "cell_type": "code",
   "execution_count": 206,
   "metadata": {},
   "outputs": [
    {
     "data": {
      "text/html": [
       "<div>\n",
       "<style scoped>\n",
       "    .dataframe tbody tr th:only-of-type {\n",
       "        vertical-align: middle;\n",
       "    }\n",
       "\n",
       "    .dataframe tbody tr th {\n",
       "        vertical-align: top;\n",
       "    }\n",
       "\n",
       "    .dataframe thead th {\n",
       "        text-align: right;\n",
       "    }\n",
       "</style>\n",
       "<table border=\"1\" class=\"dataframe\">\n",
       "  <thead>\n",
       "    <tr style=\"text-align: right;\">\n",
       "      <th></th>\n",
       "      <th>sentiment</th>\n",
       "      <th>text</th>\n",
       "    </tr>\n",
       "  </thead>\n",
       "  <tbody>\n",
       "    <tr>\n",
       "      <th>246924</th>\n",
       "      <td>0</td>\n",
       "      <td>its a shame she is going to lose</td>\n",
       "    </tr>\n",
       "    <tr>\n",
       "      <th>777523</th>\n",
       "      <td>0</td>\n",
       "      <td>loving the new tat but hating no pool for a week</td>\n",
       "    </tr>\n",
       "    <tr>\n",
       "      <th>414068</th>\n",
       "      <td>0</td>\n",
       "      <td>Didn't want to get out of that burning hot shower, but a spider in the corner of the bathroom was plotting to get me</td>\n",
       "    </tr>\n",
       "    <tr>\n",
       "      <th>763462</th>\n",
       "      <td>0</td>\n",
       "      <td>that's lame that ED McMahon died..</td>\n",
       "    </tr>\n",
       "    <tr>\n",
       "      <th>224680</th>\n",
       "      <td>0</td>\n",
       "      <td>promised jr ud get throwed with him tongiht :-o thank god i said no beer! six pack calories are killin .e  im drunk</td>\n",
       "    </tr>\n",
       "  </tbody>\n",
       "</table>\n",
       "</div>"
      ],
      "text/plain": [
       "        sentiment  \\\n",
       "246924          0   \n",
       "777523          0   \n",
       "414068          0   \n",
       "763462          0   \n",
       "224680          0   \n",
       "\n",
       "                                                                                                                         text  \n",
       "246924                                                                                      its a shame she is going to lose   \n",
       "777523                                                                      loving the new tat but hating no pool for a week   \n",
       "414068  Didn't want to get out of that burning hot shower, but a spider in the corner of the bathroom was plotting to get me   \n",
       "763462                                                                                    that's lame that ED McMahon died..   \n",
       "224680    promised jr ud get throwed with him tongiht :-o thank god i said no beer! six pack calories are killin .e  im drunk  "
      ]
     },
     "execution_count": 206,
     "metadata": {},
     "output_type": "execute_result"
    }
   ],
   "source": [
    "sample_df.head()"
   ]
  },
  {
   "cell_type": "code",
   "execution_count": 177,
   "metadata": {
    "scrolled": true
   },
   "outputs": [
    {
     "data": {
      "text/plain": [
       "[[70, 4, 791, 140, 8, 45, 2, 1057],\n",
       " [695, 3, 79, 3997, 18, 2626, 36, 750, 10, 4, 144],\n",
       " [150,\n",
       "  76,\n",
       "  2,\n",
       "  32,\n",
       "  31,\n",
       "  12,\n",
       "  17,\n",
       "  2351,\n",
       "  258,\n",
       "  619,\n",
       "  18,\n",
       "  4,\n",
       "  2784,\n",
       "  11,\n",
       "  3,\n",
       "  2093,\n",
       "  12,\n",
       "  3,\n",
       "  2195,\n",
       "  25,\n",
       "  14067,\n",
       "  2,\n",
       "  32,\n",
       "  14],\n",
       " [143, 961, 17, 1732, 5341, 621],\n",
       " [3922,\n",
       "  3457,\n",
       "  10184,\n",
       "  32,\n",
       "  21,\n",
       "  153,\n",
       "  29099,\n",
       "  317,\n",
       "  171,\n",
       "  324,\n",
       "  1,\n",
       "  306,\n",
       "  36,\n",
       "  940,\n",
       "  1717,\n",
       "  1354,\n",
       "  6445,\n",
       "  35,\n",
       "  5814,\n",
       "  579,\n",
       "  59,\n",
       "  1020]]"
      ]
     },
     "execution_count": 177,
     "metadata": {},
     "output_type": "execute_result"
    }
   ],
   "source": [
    "tokens[:5]"
   ]
  },
  {
   "cell_type": "markdown",
   "metadata": {},
   "source": [
    "### Que tamanho tem o vetor mais largo?"
   ]
  },
  {
   "cell_type": "code",
   "execution_count": 178,
   "metadata": {},
   "outputs": [
    {
     "data": {
      "text/plain": [
       "38"
      ]
     },
     "execution_count": 178,
     "metadata": {},
     "output_type": "execute_result"
    }
   ],
   "source": [
    "len_max = 0\n",
    "for i in range(len(tokens)):\n",
    "    if len_max < len(tokens[i]):\n",
    "        len_max = len(tokens[i])\n",
    "\n",
    "len_max"
   ]
  },
  {
   "cell_type": "markdown",
   "metadata": {},
   "source": [
    "### Resolvemos isso padronizando o tamanho de cada sequência de tokens, vamos usar o mesmo tamanho de nosso vocabulário, mas poderia ser outro tamanho"
   ]
  },
  {
   "cell_type": "code",
   "execution_count": 179,
   "metadata": {},
   "outputs": [],
   "source": [
    "X_deep = sequence.pad_sequences(tokens, maxlen = len_max)"
   ]
  },
  {
   "cell_type": "code",
   "execution_count": 180,
   "metadata": {
    "scrolled": true
   },
   "outputs": [
    {
     "data": {
      "text/plain": [
       "(200000, 38)"
      ]
     },
     "execution_count": 180,
     "metadata": {},
     "output_type": "execute_result"
    }
   ],
   "source": [
    "X_deep.shape"
   ]
  },
  {
   "cell_type": "code",
   "execution_count": 181,
   "metadata": {
    "scrolled": true
   },
   "outputs": [
    {
     "data": {
      "text/plain": [
       "array([[    0,     0,     0,     0,     0,     0,     0,     0,     0,\n",
       "            0,     0,     0,     0,     0,     0,     0,     0,     0,\n",
       "            0,     0,     0,     0,     0,     0,     0,     0,     0,\n",
       "            0,     0,     0,    70,     4,   791,   140,     8,    45,\n",
       "            2,  1057],\n",
       "       [    0,     0,     0,     0,     0,     0,     0,     0,     0,\n",
       "            0,     0,     0,     0,     0,     0,     0,     0,     0,\n",
       "            0,     0,     0,     0,     0,     0,     0,     0,     0,\n",
       "          695,     3,    79,  3997,    18,  2626,    36,   750,    10,\n",
       "            4,   144],\n",
       "       [    0,     0,     0,     0,     0,     0,     0,     0,     0,\n",
       "            0,     0,     0,     0,     0,   150,    76,     2,    32,\n",
       "           31,    12,    17,  2351,   258,   619,    18,     4,  2784,\n",
       "           11,     3,  2093,    12,     3,  2195,    25, 14067,     2,\n",
       "           32,    14],\n",
       "       [    0,     0,     0,     0,     0,     0,     0,     0,     0,\n",
       "            0,     0,     0,     0,     0,     0,     0,     0,     0,\n",
       "            0,     0,     0,     0,     0,     0,     0,     0,     0,\n",
       "            0,     0,     0,     0,     0,   143,   961,    17,  1732,\n",
       "         5341,   621],\n",
       "       [    0,     0,     0,     0,     0,     0,     0,     0,     0,\n",
       "            0,     0,     0,     0,     0,     0,     0,  3922,  3457,\n",
       "        10184,    32,    21,   153, 29099,   317,   171,   324,     1,\n",
       "          306,    36,   940,  1717,  1354,  6445,    35,  5814,   579,\n",
       "           59,  1020]])"
      ]
     },
     "execution_count": 181,
     "metadata": {},
     "output_type": "execute_result"
    }
   ],
   "source": [
    "X_deep[:5]"
   ]
  },
  {
   "cell_type": "code",
   "execution_count": 182,
   "metadata": {},
   "outputs": [
    {
     "data": {
      "text/plain": [
       "(200000,)"
      ]
     },
     "execution_count": 182,
     "metadata": {},
     "output_type": "execute_result"
    }
   ],
   "source": [
    "y_params.shape"
   ]
  },
  {
   "cell_type": "code",
   "execution_count": 183,
   "metadata": {},
   "outputs": [],
   "source": [
    "X_train, X_test, y_train, y_test = train_test_split(X_deep, y_params, test_size=0.30, random_state=99)"
   ]
  },
  {
   "cell_type": "code",
   "execution_count": 184,
   "metadata": {},
   "outputs": [
    {
     "data": {
      "text/plain": [
       "(140000, 38)"
      ]
     },
     "execution_count": 184,
     "metadata": {},
     "output_type": "execute_result"
    }
   ],
   "source": [
    "X_train.shape"
   ]
  },
  {
   "cell_type": "code",
   "execution_count": 185,
   "metadata": {},
   "outputs": [
    {
     "data": {
      "text/plain": [
       "(60000, 38)"
      ]
     },
     "execution_count": 185,
     "metadata": {},
     "output_type": "execute_result"
    }
   ],
   "source": [
    "X_test.shape"
   ]
  },
  {
   "cell_type": "code",
   "execution_count": 186,
   "metadata": {},
   "outputs": [],
   "source": [
    "model_rnn = Sequential()\n",
    "\n",
    "model_rnn.add(Embedding(max_words, 128, input_length=len_max))\n",
    "model_rnn.add(SimpleRNN(128))\n",
    "model_rnn.add(Dense(128, activation='tanh'))\n",
    "model_rnn.add(Dense(1, activation='sigmoid'))"
   ]
  },
  {
   "cell_type": "code",
   "execution_count": 187,
   "metadata": {},
   "outputs": [],
   "source": [
    "callback_es_rnn = EarlyStopping(\n",
    "    monitor=\"val_acc\",\n",
    "    min_delta=0,\n",
    "    patience=10,\n",
    "    verbose=0,\n",
    "    mode=\"auto\",\n",
    "    baseline=None,\n",
    "    restore_best_weights=False,\n",
    ")\n",
    "\n",
    "checkpoint_filepath_rnn = './rnn/'\n",
    "\n",
    "\n",
    "\n",
    "model_checkpoint_callback_rnn = ModelCheckpoint(\n",
    "    filepath=checkpoint_filepath_rnn,\n",
    "    save_weights_only=True,\n",
    "    monitor='val_acc',\n",
    "    mode='max',\n",
    "    save_best_only=True)\n",
    "\n"
   ]
  },
  {
   "cell_type": "code",
   "execution_count": 188,
   "metadata": {},
   "outputs": [],
   "source": [
    "opt_rnn = RMSprop(\n",
    "    learning_rate=0.00001,\n",
    "    rho=0.9,\n",
    "    momentum=0.0,\n",
    "    epsilon=1e-07,\n",
    "    centered=False,\n",
    "    name=\"RMSprop\",\n",
    ")\n",
    "\n",
    "opt2_rnn = Adam(\n",
    "    learning_rate=0.0005,\n",
    "    beta_1=0.9,\n",
    "    beta_2=0.999,\n",
    "    epsilon=1e-07,\n",
    "    amsgrad=False,\n",
    "    name=\"Adam\"\n",
    ")\n",
    "\n",
    "opt3_rnn = SGD(\n",
    "    learning_rate=0.01, momentum=0.0, nesterov=False, name=\"SGD\"\n",
    ")\n",
    "\n",
    "\n",
    "model_rnn.compile(optimizer=opt_rnn, loss='binary_crossentropy', metrics=['acc'])\n"
   ]
  },
  {
   "cell_type": "code",
   "execution_count": 189,
   "metadata": {},
   "outputs": [
    {
     "name": "stdout",
     "output_type": "stream",
     "text": [
      "Model: \"sequential_12\"\n",
      "_________________________________________________________________\n",
      "Layer (type)                 Output Shape              Param #   \n",
      "=================================================================\n",
      "embedding_4 (Embedding)      (None, 38, 128)           3840000   \n",
      "_________________________________________________________________\n",
      "simple_rnn_4 (SimpleRNN)     (None, 128)               32896     \n",
      "_________________________________________________________________\n",
      "dense_24 (Dense)             (None, 128)               16512     \n",
      "_________________________________________________________________\n",
      "dense_25 (Dense)             (None, 1)                 129       \n",
      "=================================================================\n",
      "Total params: 3,889,537\n",
      "Trainable params: 3,889,537\n",
      "Non-trainable params: 0\n",
      "_________________________________________________________________\n"
     ]
    }
   ],
   "source": [
    "model_rnn.summary()"
   ]
  },
  {
   "cell_type": "markdown",
   "metadata": {},
   "source": [
    "<h1 style=\"color:red\">Treinar?</h1>"
   ]
  },
  {
   "cell_type": "code",
   "execution_count": 190,
   "metadata": {},
   "outputs": [],
   "source": [
    "TRAIN_RNN = True"
   ]
  },
  {
   "cell_type": "code",
   "execution_count": 191,
   "metadata": {
    "scrolled": true
   },
   "outputs": [
    {
     "name": "stdout",
     "output_type": "stream",
     "text": [
      "Epoch 1/100\n",
      "1641/1641 [==============================] - 35s 21ms/step - loss: 0.6867 - acc: 0.5433 - val_loss: 0.6735 - val_acc: 0.5780\n",
      "Epoch 2/100\n",
      "1641/1641 [==============================] - 35s 21ms/step - loss: 0.6453 - acc: 0.6363 - val_loss: 0.6237 - val_acc: 0.6494\n",
      "Epoch 3/100\n",
      "1641/1641 [==============================] - 36s 22ms/step - loss: 0.5898 - acc: 0.6969 - val_loss: 0.5728 - val_acc: 0.7113\n",
      "Epoch 4/100\n",
      "1641/1641 [==============================] - 35s 21ms/step - loss: 0.5467 - acc: 0.7301 - val_loss: 0.5422 - val_acc: 0.7357\n",
      "Epoch 5/100\n",
      "1641/1641 [==============================] - 35s 21ms/step - loss: 0.5175 - acc: 0.7502 - val_loss: 0.5218 - val_acc: 0.7460\n",
      "Epoch 6/100\n",
      "1641/1641 [==============================] - 36s 22ms/step - loss: 0.4981 - acc: 0.7622 - val_loss: 0.5072 - val_acc: 0.7580\n",
      "Epoch 7/100\n",
      "1641/1641 [==============================] - 35s 21ms/step - loss: 0.4847 - acc: 0.7717 - val_loss: 0.5003 - val_acc: 0.7637\n",
      "Epoch 8/100\n",
      "1641/1641 [==============================] - 35s 21ms/step - loss: 0.4748 - acc: 0.7774 - val_loss: 0.4936 - val_acc: 0.7691\n",
      "Epoch 9/100\n",
      "1641/1641 [==============================] - 36s 22ms/step - loss: 0.4670 - acc: 0.7822 - val_loss: 0.4876 - val_acc: 0.7717\n",
      "Epoch 10/100\n",
      "1641/1641 [==============================] - 35s 21ms/step - loss: 0.4609 - acc: 0.7858 - val_loss: 0.4839 - val_acc: 0.7734\n",
      "Epoch 11/100\n",
      "1641/1641 [==============================] - 35s 21ms/step - loss: 0.4559 - acc: 0.7894 - val_loss: 0.4811 - val_acc: 0.7760\n",
      "Epoch 12/100\n",
      "1641/1641 [==============================] - 34s 21ms/step - loss: 0.4514 - acc: 0.7921 - val_loss: 0.4798 - val_acc: 0.7759\n",
      "Epoch 13/100\n",
      "1641/1641 [==============================] - 35s 21ms/step - loss: 0.4477 - acc: 0.7947 - val_loss: 0.4766 - val_acc: 0.7792\n",
      "Epoch 14/100\n",
      "1641/1641 [==============================] - 34s 21ms/step - loss: 0.4444 - acc: 0.7962 - val_loss: 0.4789 - val_acc: 0.7748\n",
      "Epoch 15/100\n",
      "1641/1641 [==============================] - 34s 21ms/step - loss: 0.4415 - acc: 0.7969 - val_loss: 0.4741 - val_acc: 0.7804\n",
      "Epoch 16/100\n",
      "1641/1641 [==============================] - 35s 21ms/step - loss: 0.4388 - acc: 0.7994 - val_loss: 0.4751 - val_acc: 0.7809\n",
      "Epoch 17/100\n",
      "1641/1641 [==============================] - 34s 21ms/step - loss: 0.4361 - acc: 0.8010 - val_loss: 0.4740 - val_acc: 0.7785\n",
      "Epoch 18/100\n",
      "1641/1641 [==============================] - 34s 21ms/step - loss: 0.4337 - acc: 0.8026 - val_loss: 0.4711 - val_acc: 0.7828\n",
      "Epoch 19/100\n",
      "1641/1641 [==============================] - 34s 21ms/step - loss: 0.4314 - acc: 0.8037 - val_loss: 0.4719 - val_acc: 0.7796\n",
      "Epoch 20/100\n",
      "1641/1641 [==============================] - 35s 21ms/step - loss: 0.4293 - acc: 0.8055 - val_loss: 0.4704 - val_acc: 0.7833\n",
      "Epoch 21/100\n",
      "1641/1641 [==============================] - 35s 21ms/step - loss: 0.4271 - acc: 0.8062 - val_loss: 0.4705 - val_acc: 0.7841\n",
      "Epoch 22/100\n",
      "1641/1641 [==============================] - 34s 21ms/step - loss: 0.4251 - acc: 0.8076 - val_loss: 0.4700 - val_acc: 0.7835\n",
      "Epoch 23/100\n",
      "1641/1641 [==============================] - 35s 21ms/step - loss: 0.4231 - acc: 0.8087 - val_loss: 0.4703 - val_acc: 0.7839\n",
      "Epoch 24/100\n",
      "1641/1641 [==============================] - 34s 21ms/step - loss: 0.4210 - acc: 0.8095 - val_loss: 0.4705 - val_acc: 0.7829\n",
      "Epoch 25/100\n",
      "1641/1641 [==============================] - 35s 21ms/step - loss: 0.4190 - acc: 0.8101 - val_loss: 0.4696 - val_acc: 0.7844\n",
      "Epoch 26/100\n",
      "1641/1641 [==============================] - 34s 21ms/step - loss: 0.4170 - acc: 0.8120 - val_loss: 0.4724 - val_acc: 0.7833\n",
      "Epoch 27/100\n",
      "1641/1641 [==============================] - 35s 21ms/step - loss: 0.4150 - acc: 0.8137 - val_loss: 0.4690 - val_acc: 0.7847\n",
      "Epoch 28/100\n",
      "1641/1641 [==============================] - 35s 21ms/step - loss: 0.4130 - acc: 0.8144 - val_loss: 0.4710 - val_acc: 0.7847\n",
      "Epoch 29/100\n",
      "1641/1641 [==============================] - 34s 21ms/step - loss: 0.4109 - acc: 0.8156 - val_loss: 0.4737 - val_acc: 0.7812\n",
      "Epoch 30/100\n",
      "1641/1641 [==============================] - 34s 21ms/step - loss: 0.4088 - acc: 0.8169 - val_loss: 0.4725 - val_acc: 0.7834\n",
      "Epoch 31/100\n",
      "1641/1641 [==============================] - 34s 21ms/step - loss: 0.4066 - acc: 0.8182 - val_loss: 0.4728 - val_acc: 0.7825\n",
      "Epoch 32/100\n",
      "1641/1641 [==============================] - 34s 21ms/step - loss: 0.4044 - acc: 0.8190 - val_loss: 0.4723 - val_acc: 0.7841\n",
      "Epoch 33/100\n",
      "1641/1641 [==============================] - 34s 21ms/step - loss: 0.4024 - acc: 0.8204 - val_loss: 0.4748 - val_acc: 0.7829\n",
      "Epoch 34/100\n",
      "1641/1641 [==============================] - 34s 21ms/step - loss: 0.4003 - acc: 0.8216 - val_loss: 0.4759 - val_acc: 0.7829\n",
      "Epoch 35/100\n",
      "1641/1641 [==============================] - 34s 21ms/step - loss: 0.3980 - acc: 0.8223 - val_loss: 0.4777 - val_acc: 0.7815\n",
      "Epoch 36/100\n",
      "1641/1641 [==============================] - 34s 21ms/step - loss: 0.3957 - acc: 0.8240 - val_loss: 0.4772 - val_acc: 0.7814\n",
      "Epoch 37/100\n",
      "1641/1641 [==============================] - 34s 21ms/step - loss: 0.3932 - acc: 0.8259 - val_loss: 0.4812 - val_acc: 0.7795\n",
      "Epoch 38/100\n",
      "1641/1641 [==============================] - 34s 21ms/step - loss: 0.3908 - acc: 0.8268 - val_loss: 0.4821 - val_acc: 0.7794\n"
     ]
    }
   ],
   "source": [
    "history_rnn = {}\n",
    "\n",
    "if TRAIN_RNN:\n",
    "    history_rnn = model_rnn.fit(X_train, y_train, epochs=100, batch_size=64, validation_split=0.25,\n",
    "                    callbacks=[callback_es_rnn, model_checkpoint_callback_rnn])\n",
    "else:\n",
    "    model_rnn.load_weights(checkpoint_filepath_rnn)"
   ]
  },
  {
   "cell_type": "code",
   "execution_count": 192,
   "metadata": {},
   "outputs": [
    {
     "data": {
      "image/png": "[encoded data removed]",
      "text/plain": [
       "<Figure size 432x288 with 1 Axes>"
      ]
     },
     "metadata": {
      "needs_background": "light"
     },
     "output_type": "display_data"
    }
   ],
   "source": [
    "plt.plot(history_rnn.history['acc'])\n",
    "plt.plot(history_rnn.history['val_acc'])\n",
    "plt.title('model accuracy')\n",
    "plt.ylabel('accuracy')\n",
    "plt.xlabel('epoch')\n",
    "plt.grid()\n",
    "plt.legend(['train', 'test'], loc='lower right')\n",
    "plt.show()"
   ]
  },
  {
   "cell_type": "code",
   "execution_count": 193,
   "metadata": {},
   "outputs": [
    {
     "data": {
      "text/plain": [
       "0.7803"
      ]
     },
     "execution_count": 193,
     "metadata": {},
     "output_type": "execute_result"
    }
   ],
   "source": [
    "accuracy_score(y_test, np.round(model_rnn.predict(X_test)))"
   ]
  },
  {
   "cell_type": "code",
   "execution_count": 194,
   "metadata": {
    "scrolled": true
   },
   "outputs": [
    {
     "name": "stdout",
     "output_type": "stream",
     "text": [
      "              precision    recall  f1-score   support\n",
      "\n",
      "         neg       0.79      0.77      0.78     29922\n",
      "         pos       0.77      0.79      0.78     30078\n",
      "\n",
      "   micro avg       0.78      0.78      0.78     60000\n",
      "   macro avg       0.78      0.78      0.78     60000\n",
      "weighted avg       0.78      0.78      0.78     60000\n",
      "\n"
     ]
    }
   ],
   "source": [
    "target_names = ['neg', 'pos']\n",
    "print(classification_report(y_test, np.round(model_rnn.predict(X_test)), target_names=target_names))"
   ]
  },
  {
   "cell_type": "code",
   "execution_count": 224,
   "metadata": {},
   "outputs": [],
   "source": [
    "def pred_sequence(text):\n",
    "    \n",
    "    seq = sequence.pad_sequences(tokenizer.texts_to_sequences([text]), maxlen = len_max)\n",
    "    \n",
    "    return \"positivo\" if np.round(model_rnn.predict(seq))[0][0] > 0 else \"negativo\""
   ]
  },
  {
   "cell_type": "markdown",
   "metadata": {},
   "source": [
    "### Testes concretos (RNN)"
   ]
  },
  {
   "cell_type": "markdown",
   "metadata": {},
   "source": [
    "### Frases curtas"
   ]
  },
  {
   "cell_type": "code",
   "execution_count": 226,
   "metadata": {
    "scrolled": false
   },
   "outputs": [
    {
     "data": {
      "text/plain": [
       "'positivo'"
      ]
     },
     "execution_count": 226,
     "metadata": {},
     "output_type": "execute_result"
    }
   ],
   "source": [
    "pred_sequence(\"I'm very excited today! I have a job interview tomorrow!\")"
   ]
  },
  {
   "cell_type": "code",
   "execution_count": 227,
   "metadata": {
    "scrolled": false
   },
   "outputs": [
    {
     "data": {
      "text/plain": [
       "'negativo'"
      ]
     },
     "execution_count": 227,
     "metadata": {},
     "output_type": "execute_result"
    }
   ],
   "source": [
    "pred_sequence(\"the police raid my apartment while I was keeping illegal stuff\")"
   ]
  },
  {
   "cell_type": "code",
   "execution_count": 231,
   "metadata": {
    "scrolled": false
   },
   "outputs": [
    {
     "data": {
      "text/plain": [
       "'positivo'"
      ]
     },
     "execution_count": 231,
     "metadata": {},
     "output_type": "execute_result"
    }
   ],
   "source": [
    "pred_sequence(\"I'm going to the gym with my friends now\")"
   ]
  },
  {
   "cell_type": "code",
   "execution_count": 228,
   "metadata": {
    "scrolled": false
   },
   "outputs": [
    {
     "data": {
      "text/plain": [
       "'negativo'"
      ]
     },
     "execution_count": 228,
     "metadata": {},
     "output_type": "execute_result"
    }
   ],
   "source": [
    "pred_sequence(\"my girlfriend left me\")"
   ]
  },
  {
   "cell_type": "code",
   "execution_count": 230,
   "metadata": {
    "scrolled": false
   },
   "outputs": [
    {
     "data": {
      "text/plain": [
       "'positivo'"
      ]
     },
     "execution_count": 230,
     "metadata": {},
     "output_type": "execute_result"
    }
   ],
   "source": [
    "pred_sequence(\"in the end, the launch was a huge success\")"
   ]
  },
  {
   "cell_type": "code",
   "execution_count": 229,
   "metadata": {
    "scrolled": false
   },
   "outputs": [
    {
     "data": {
      "text/plain": [
       "'negativo'"
      ]
     },
     "execution_count": 229,
     "metadata": {},
     "output_type": "execute_result"
    }
   ],
   "source": [
    "pred_sequence(\"that product was a complete failure\")"
   ]
  },
  {
   "cell_type": "code",
   "execution_count": 241,
   "metadata": {
    "scrolled": false
   },
   "outputs": [
    {
     "data": {
      "text/plain": [
       "'positivo'"
      ]
     },
     "execution_count": 241,
     "metadata": {},
     "output_type": "execute_result"
    }
   ],
   "source": [
    "pred_sequence(\"very useful and reliable\")"
   ]
  },
  {
   "cell_type": "code",
   "execution_count": 232,
   "metadata": {
    "scrolled": true
   },
   "outputs": [
    {
     "data": {
      "text/plain": [
       "'negativo'"
      ]
     },
     "execution_count": 232,
     "metadata": {},
     "output_type": "execute_result"
    }
   ],
   "source": [
    "pred_sequence(\"I had no doubt it'd be a complete mess\")"
   ]
  },
  {
   "cell_type": "code",
   "execution_count": 245,
   "metadata": {
    "scrolled": true
   },
   "outputs": [
    {
     "data": {
      "text/plain": [
       "'positivo'"
      ]
     },
     "execution_count": 245,
     "metadata": {},
     "output_type": "execute_result"
    }
   ],
   "source": [
    "pred_sequence(\"Bought this for my grandson and he is so thrilled with it. \"+\n",
    "              \"Was so glad to see the smile on his face when it arrived\")"
   ]
  },
  {
   "cell_type": "markdown",
   "metadata": {},
   "source": [
    "### Reviews Cyberpunk 2077 "
   ]
  },
  {
   "cell_type": "code",
   "execution_count": 238,
   "metadata": {
    "scrolled": false
   },
   "outputs": [
    {
     "data": {
      "text/plain": [
       "'positivo'"
      ]
     },
     "execution_count": 238,
     "metadata": {},
     "output_type": "execute_result"
    }
   ],
   "source": [
    "pred_sequence(\"The game isn't perfect. The game isn't majorly groundbreaking.\" +\n",
    "              \"However this game has a beautiful open world with a ton of fun\")"
   ]
  },
  {
   "cell_type": "code",
   "execution_count": 242,
   "metadata": {
    "scrolled": false
   },
   "outputs": [
    {
     "data": {
      "text/plain": [
       "'negativo'"
      ]
     },
     "execution_count": 242,
     "metadata": {},
     "output_type": "execute_result"
    }
   ],
   "source": [
    "pred_sequence(\"absolute garbage and stale gameplay\" +\n",
    "              \"that reminds me of Borderlands, and badly optimized in general.\")"
   ]
  },
  {
   "cell_type": "markdown",
   "metadata": {},
   "source": [
    "### Reviews 12 Rules for Life: An Antidote to Chaos "
   ]
  },
  {
   "cell_type": "code",
   "execution_count": 243,
   "metadata": {
    "scrolled": false
   },
   "outputs": [
    {
     "data": {
      "text/plain": [
       "'positivo'"
      ]
     },
     "execution_count": 243,
     "metadata": {},
     "output_type": "execute_result"
    }
   ],
   "source": [
    "pred_sequence(\"Even though I’m well past sixty, I found Jordan Peterson’s words to be \"+\n",
    "              \"inspiring and a solid guideline to face the mishaps that life throws accross our paths.\")"
   ]
  },
  {
   "cell_type": "code",
   "execution_count": 244,
   "metadata": {
    "scrolled": false
   },
   "outputs": [
    {
     "data": {
      "text/plain": [
       "'negativo'"
      ]
     },
     "execution_count": 244,
     "metadata": {},
     "output_type": "execute_result"
    }
   ],
   "source": [
    "pred_sequence(\"I quite like Jordan Peterson. I think he has interesting things to say.\"+\n",
    "              \" I think he's unfairly criticised, often for things he hasn't said. \"+\n",
    "              \"I was curious what he had to say here so I went as far as paying money\"+\n",
    "              \" to find out, which was a mistake.\")"
   ]
  },
  {
   "cell_type": "code",
   "execution_count": null,
   "metadata": {},
   "outputs": [],
   "source": []
  }
 ],
 "metadata": {
  "kernelspec": {
   "display_name": "Python 3",
   "language": "python",
   "name": "python3"
  },
  "language_info": {
   "codemirror_mode": {
    "name": "ipython",
    "version": 3
   },
   "file_extension": ".py",
   "mimetype": "text/x-python",
   "name": "python",
   "nbconvert_exporter": "python",
   "pygments_lexer": "ipython3",
   "version": "3.7.3"
  }
 },
 "nbformat": 4,
 "nbformat_minor": 2
}
